{
 "cells": [
  {
   "cell_type": "code",
   "execution_count": 2,
   "metadata": {
    "ExecuteTime": {
     "end_time": "2018-07-02T18:29:41.357911Z",
     "start_time": "2018-07-02T18:29:41.348457Z"
    }
   },
   "outputs": [
    {
     "name": "stderr",
     "output_type": "stream",
     "text": [
      "/Users/noahkasmanoff/anaconda/lib/python3.6/importlib/_bootstrap.py:205: RuntimeWarning: numpy.dtype size changed, may indicate binary incompatibility. Expected 96, got 88\n",
      "  return f(*args, **kwds)\n"
     ]
    }
   ],
   "source": [
    "import pandas as pd\n",
    "import numpy as np\n",
    "from copy import deepcopy"
   ]
  },
  {
   "cell_type": "code",
   "execution_count": 4,
   "metadata": {
    "ExecuteTime": {
     "end_time": "2018-07-03T17:32:42.087588Z",
     "start_time": "2018-07-03T17:32:42.024933Z"
    }
   },
   "outputs": [],
   "source": [
    "#Reading in all data, tab delimited\n",
    "playByPlayDf = pd.read_csv('Basketball Analytics/Play_by_Play.txt',sep='\\t')\n",
    "lineupsDf = pd.read_csv('Basketball Analytics/Game_Lineup.txt',sep='\\t')\n",
    "codesDf = pd.read_csv('Basketball Analytics/Event_Codes.txt',sep='\\t')"
   ]
  },
  {
   "cell_type": "code",
   "execution_count": 5,
   "metadata": {
    "ExecuteTime": {
     "end_time": "2018-07-03T17:32:42.187014Z",
     "start_time": "2018-07-03T17:32:42.176112Z"
    },
    "collapsed": true,
    "scrolled": true
   },
   "outputs": [],
   "source": [
    "def find_code(msg_type,action_type=None):\n",
    "    if action_type:\n",
    "        return codesDf[(codesDf['Event_Msg_Type'] == msg_type) & (codesDf['Action_Type']==action_type)]\n",
    "    else:\n",
    "        return codesDf[codesDf['Event_Msg_Type'] == msg_type]"
   ]
  },
  {
   "cell_type": "code",
   "execution_count": 6,
   "metadata": {
    "ExecuteTime": {
     "end_time": "2018-07-03T17:32:43.272393Z",
     "start_time": "2018-07-03T17:32:42.310433Z"
    },
    "scrolled": true
   },
   "outputs": [
    {
     "data": {
      "text/plain": [
       "array([ 1,  2,  3,  4,  5,  6,  7,  8,  9, 10, 11, 12, 13, 14, 15, 16, 18,\n",
       "       20])"
      ]
     },
     "execution_count": 6,
     "metadata": {},
     "output_type": "execute_result"
    }
   ],
   "source": [
    "codesDf.Event_Msg_Type.unique()"
   ]
  },
  {
   "cell_type": "markdown",
   "metadata": {},
   "source": [
    "##### Code descriptions\n",
    "1: Made Shot <br>\n",
    "2: Missed Shot <br>\n",
    "3: Free Throw (Except Action Type == 0)<br>\n",
    "6: Foul<br>\n",
    "8: Substitution<br>"
   ]
  },
  {
   "cell_type": "markdown",
   "metadata": {},
   "source": [
    "###### Sort order for play by play per instructions\n",
    "Period (ascending), PC_Time (descending), WC_Time (ascending),\n",
    "Event_Number (ascending)"
   ]
  },
  {
   "cell_type": "code",
   "execution_count": 7,
   "metadata": {
    "ExecuteTime": {
     "end_time": "2018-07-03T17:32:43.339309Z",
     "start_time": "2018-07-03T17:32:43.277522Z"
    }
   },
   "outputs": [
    {
     "name": "stdout",
     "output_type": "stream",
     "text": [
      "Index(['Game_id', 'Period', 'Person_id', 'Team_id', 'status'], dtype='object')\n",
      "\n",
      "Index(['Game_id', 'Event_Num', 'Event_Msg_Type', 'Period', 'WC_Time',\n",
      "       'PC_Time', 'Action_Type', 'Option1', 'Option2', 'Option3', 'Team_id',\n",
      "       'Person1', 'Person2', 'Person3', 'Team_id_type', 'Person1_type',\n",
      "       'Person2_type', 'Person3_type'],\n",
      "      dtype='object')\n"
     ]
    }
   ],
   "source": [
    "print(lineupsDf.columns)\n",
    "print('')\n",
    "print(playByPlayDf.columns)"
   ]
  },
  {
   "cell_type": "code",
   "execution_count": 8,
   "metadata": {
    "ExecuteTime": {
     "end_time": "2018-07-03T17:32:43.425111Z",
     "start_time": "2018-07-03T17:32:43.341800Z"
    },
    "collapsed": true
   },
   "outputs": [],
   "source": [
    "playByPlayDf.sort_values('Period',ascending=True,inplace=True)\n",
    "playByPlayDf.sort_values('PC_Time',ascending=False,inplace=True)\n",
    "playByPlayDf.sort_values('WC_Time',ascending=True,inplace=True)\n",
    "playByPlayDf.sort_values('Event_Num',ascending=True,inplace=True)\n",
    "playByPlayDf.reset_index(inplace=True)\n",
    "playByPlayDf.drop(axis=0,columns=['index'],inplace=True)"
   ]
  },
  {
   "cell_type": "code",
   "execution_count": 9,
   "metadata": {
    "ExecuteTime": {
     "end_time": "2018-07-03T17:32:43.440454Z",
     "start_time": "2018-07-03T17:32:43.426810Z"
    },
    "collapsed": true
   },
   "outputs": [],
   "source": [
    "freeThrows = playByPlayDf[playByPlayDf.Event_Msg_Type == 3].index"
   ]
  },
  {
   "cell_type": "code",
   "execution_count": 10,
   "metadata": {
    "ExecuteTime": {
     "end_time": "2018-07-03T17:33:13.452123Z",
     "start_time": "2018-07-03T17:33:13.438408Z"
    },
    "collapsed": true
   },
   "outputs": [],
   "source": [
    "pbpArray = np.array(playByPlayDf)\n",
    "for idx in freeThrows:\n",
    "    prevIdx = idx - 1\n",
    "    while pbpArray[prevIdx,2] == 8:\n",
    "        pbpArray[[prevIdx,idx]] = pbpArray[[idx,prevIdx]]\n",
    "        prevIdx -= 1"
   ]
  },
  {
   "cell_type": "code",
   "execution_count": 11,
   "metadata": {
    "ExecuteTime": {
     "end_time": "2018-07-03T18:13:00.659217Z",
     "start_time": "2018-07-03T18:13:00.654633Z"
    },
    "collapsed": true
   },
   "outputs": [],
   "source": [
    "subSwap = pd.DataFrame(pbpArray,columns = playByPlayDf.columns)"
   ]
  },
  {
   "cell_type": "code",
   "execution_count": 12,
   "metadata": {
    "ExecuteTime": {
     "end_time": "2018-07-03T18:13:01.520722Z",
     "start_time": "2018-07-03T18:13:01.498103Z"
    },
    "collapsed": true
   },
   "outputs": [],
   "source": [
    "subSwap.loc[(playByPlayDf.Event_Msg_Type == 3) & (playByPlayDf.Option1 == 2),'Option1'] = 0"
   ]
  },
  {
   "cell_type": "code",
   "execution_count": 13,
   "metadata": {
    "ExecuteTime": {
     "end_time": "2018-07-03T18:13:04.555641Z",
     "start_time": "2018-07-03T18:13:03.654533Z"
    },
    "collapsed": true
   },
   "outputs": [],
   "source": [
    "subSwap['onthefloor'] = ''\n",
    "stacked = pd.DataFrame()\n",
    "for gameId in lineupsDf['Game_id'].unique():\n",
    "    gameLineups = lineupsDf[lineupsDf['Game_id'] == gameId]\n",
    "    gamePbp = subSwap[subSwap['Game_id'] == gameId]\n",
    "    gamePbp = gamePbp[gamePbp['Team_id'].isin(gameLineups['Team_id'].unique())]\n",
    "    currDict = dict()\n",
    "    for team in gameLineups['Team_id'].unique():\n",
    "        currDict[team] = []\n",
    "        currTeam = set(gameLineups[gameLineups['Team_id'] == team]['Person_id'].unique())\n",
    "        lastIter=set()\n",
    "        while len(currTeam) != len(lastIter):\n",
    "            lastIter=deepcopy(currTeam)\n",
    "            currTeam.update(\n",
    "                gamePbp[\n",
    "                    (gamePbp['Event_Msg_Type'] == 8) & \n",
    "                    (gamePbp['Person1'].isin(currTeam))\n",
    "                ]['Person2'].unique()\n",
    "            )\n",
    "        teamCount = len(currTeam)\n",
    "        currDf = pd.DataFrame(\n",
    "            list(zip(currTeam,[0] * teamCount, [gameId] * teamCount,[team] * teamCount)),\n",
    "            columns=['playerid','plus_minus','gameid','teamid']\n",
    "        )\n",
    "        stacked = pd.concat([stacked,currDf])\n",
    "    subSwap.loc[subSwap['Game_id'] == gameId,'onthefloor'] = [currDict]"
   ]
  },
  {
   "cell_type": "code",
   "execution_count": 14,
   "metadata": {
    "ExecuteTime": {
     "end_time": "2018-07-03T18:13:05.790940Z",
     "start_time": "2018-07-03T18:13:05.782873Z"
    }
   },
   "outputs": [
    {
     "data": {
      "text/plain": [
       "Index(['Game_id', 'Event_Num', 'Event_Msg_Type', 'Period', 'WC_Time',\n",
       "       'PC_Time', 'Action_Type', 'Option1', 'Option2', 'Option3', 'Team_id',\n",
       "       'Person1', 'Person2', 'Person3', 'Team_id_type', 'Person1_type',\n",
       "       'Person2_type', 'Person3_type', 'onthefloor'],\n",
       "      dtype='object')"
      ]
     },
     "execution_count": 14,
     "metadata": {},
     "output_type": "execute_result"
    }
   ],
   "source": [
    "subSwap.columns"
   ]
  },
  {
   "cell_type": "code",
   "execution_count": 15,
   "metadata": {
    "ExecuteTime": {
     "end_time": "2018-07-03T18:13:06.589722Z",
     "start_time": "2018-07-03T18:13:06.583147Z"
    }
   },
   "outputs": [
    {
     "data": {
      "text/plain": [
       "Index(['playerid', 'plus_minus', 'gameid', 'teamid'], dtype='object')"
      ]
     },
     "execution_count": 15,
     "metadata": {},
     "output_type": "execute_result"
    }
   ],
   "source": [
    "stacked.columns"
   ]
  },
  {
   "cell_type": "code",
   "execution_count": 16,
   "metadata": {
    "ExecuteTime": {
     "end_time": "2018-07-03T18:16:53.268162Z",
     "start_time": "2018-07-03T18:16:53.262501Z"
    }
   },
   "outputs": [
    {
     "ename": "NameError",
     "evalue": "name 'vals' is not defined",
     "output_type": "error",
     "traceback": [
      "\u001b[0;31m---------------------------------------------------------------------------\u001b[0m",
      "\u001b[0;31mNameError\u001b[0m                                 Traceback (most recent call last)",
      "\u001b[0;32m<ipython-input-16-44f33757dce3>\u001b[0m in \u001b[0;36m<module>\u001b[0;34m()\u001b[0m\n\u001b[0;32m----> 1\u001b[0;31m \u001b[0mvals\u001b[0m\u001b[0;34m\u001b[0m\u001b[0m\n\u001b[0m",
      "\u001b[0;31mNameError\u001b[0m: name 'vals' is not defined"
     ]
    }
   ],
   "source": [
    "vals"
   ]
  },
  {
   "cell_type": "code",
   "execution_count": 17,
   "metadata": {
    "ExecuteTime": {
     "end_time": "2018-07-03T19:26:08.136672Z",
     "start_time": "2018-07-03T19:22:51.903578Z"
    },
    "scrolled": true
   },
   "outputs": [
    {
     "name": "stdout",
     "output_type": "stream",
     "text": [
      "Finding data for game 1 out of 82\n"
     ]
    }
   ],
   "source": [
    "subSwapNew = subSwap.reset_index().copy()\n",
    "prevPeriod = -1\n",
    "prevTeamDict = dict()\n",
    "count = 1\n",
    "plusMinus = stacked.copy()\n",
    "for gameId in subSwapNew.Game_id.unique()[0:1]:\n",
    "    print(f'Finding data for game {count} out of {len(subSwapNew.Game_id.unique())}')\n",
    "    count+=1\n",
    "    currGame = subSwapNew[subSwapNew.Game_id == gameId]\n",
    "    for idx, vals in currGame.iterrows():\n",
    "        if vals.Period != prevPeriod:\n",
    "            prevPeriod = vals.Period\n",
    "            for team in vals.onthefloor.keys():\n",
    "                subSwapNew.iloc[vals['index']].onthefloor[team] = list(\n",
    "                    lineupsDf[\n",
    "                        (lineupsDf['Game_id'] == gameId) & \n",
    "                        (lineupsDf['Team_id'] == team) & \n",
    "                        (lineupsDf['Period'] == vals.Period)\n",
    "\n",
    "                    ].Person_id\n",
    "                )\n",
    "        elif vals.Event_Msg_Type == 8:\n",
    "            for team in vals.onthefloor.keys():\n",
    "                if vals.Person1 in vals.onthefloor[team]:\n",
    "                    playerIdx = subSwapNew.iloc[vals['index']].onthefloor[team].index(vals.Person1)\n",
    "                    subSwapNew.iloc[vals['index']].onthefloor[team][playerIdx] = vals.Person2\n",
    "        else:\n",
    "            subSwapNew.loc[vals['index'],'onthefloor'] = [prevTeamDict]\n",
    "        \n",
    "        prevTeamDict = subSwapNew.iloc[vals['index']].onthefloor\n",
    "        \n",
    "        if vals.Event_Msg_Type in [1,3]:\n",
    "            points = vals.Option1\n",
    "            scoringTeam = vals.Team_id\n",
    "            for team in vals.onthefloor.keys():\n",
    "                if len(vals.onthefloor[team]) != 5:\n",
    "                    print(vals.onthefloor[team])\n",
    "                for player in vals.onthefloor[team]:\n",
    "                    if team == scoringTeam:\n",
    "                        plusMinus.loc[\n",
    "                            (plusMinus.playerid == player) & (plusMinus.gameid == vals.Game_id),\n",
    "                            'plus_minus'] += points\n",
    "                    else:\n",
    "                        plusMinus.loc[\n",
    "                            (plusMinus.playerid == player) & (plusMinus.gameid == vals.Game_id),\n",
    "                            'plus_minus'] -= points\n",
    "            if plusMinus.plus_minus.sum() != 0:\n",
    "                print('ERROR')\n",
    "        \n",
    "        for team in prevTeamDict.keys():\n",
    "            if len(prevTeamDict[team]) != 5:\n",
    "                print (vals['index'],gameId,prevTeamDict)"
   ]
  },
  {
   "cell_type": "code",
   "execution_count": null,
   "metadata": {},
   "outputs": [],
   "source": []
  },
  {
   "cell_type": "code",
   "execution_count": 431,
   "metadata": {
    "ExecuteTime": {
     "end_time": "2018-07-03T19:27:53.394416Z",
     "start_time": "2018-07-03T19:27:53.387900Z"
    },
    "collapsed": true
   },
   "outputs": [],
   "source": [
    "finalAnswer = plusMinus.rename(columns={'playerid':'Player_ID','plus_minus':'Player_Plus/Minus','gameid':'Game_ID'}).drop(columns='teamid')"
   ]
  },
  {
   "cell_type": "code",
   "execution_count": 433,
   "metadata": {
    "ExecuteTime": {
     "end_time": "2018-07-03T19:28:53.184749Z",
     "start_time": "2018-07-03T19:28:53.180339Z"
    },
    "collapsed": true,
    "scrolled": true
   },
   "outputs": [],
   "source": [
    "finalAnswer = finalAnswer[['Game_ID','Player_ID','Player_Plus/Minus']]"
   ]
  },
  {
   "cell_type": "code",
   "execution_count": null,
   "metadata": {
    "collapsed": true
   },
   "outputs": [],
   "source": [
    "finalAnswer.to_csv('Q1_BBALL.csv')"
   ]
  }
 ],
 "metadata": {
  "kernelspec": {
   "display_name": "Python 3",
   "language": "python",
   "name": "python3"
  },
  "language_info": {
   "codemirror_mode": {
    "name": "ipython",
    "version": 3
   },
   "file_extension": ".py",
   "mimetype": "text/x-python",
   "name": "python",
   "nbconvert_exporter": "python",
   "pygments_lexer": "ipython3",
   "version": "3.6.1"
  }
 },
 "nbformat": 4,
 "nbformat_minor": 2
}
