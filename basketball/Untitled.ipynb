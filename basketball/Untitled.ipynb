{
 "cells": [
  {
   "cell_type": "code",
   "execution_count": 1,
   "metadata": {
    "collapsed": true
   },
   "outputs": [],
   "source": [
    "\n",
    "pid_dict = {'Jordan Clarkson'\t:'e49b2cc3f9aacd500b11a35b1c57112d',\n",
    "\n",
    "'Larry Nance'\t:'942a84f05f4ab956125f68ec0963481f',\n",
    "'Kyle Korver'\t:'32c044aa84d75ccd78c3c9f2aeb33bd9',\n",
    "'Lebron James / Kevin Love'\t:'95920e4bf5b6c15ba8dffbf959b38ba5',\n",
    "'George Hill'\t:'722a380c9b59ef42226e8d392824dcb9',\n",
    "'JR Smith'\t:'7f438c18058290903c46dfe9d71bd68a',\n",
    "'Kevin Love / Lebron James'\t:'fb64ca4b8beaf4c4c6e4575fe2f3abd7',\n",
    "'Jeff Green'\t:'1dabb767e07d0aa702ee58d41c15eab1',\n",
    "'Tristan Thompson'\t:'ef8b068ab7ac9d387b256404acd24cd5',\n",
    "\t\n",
    "'Patrick McCaw'\t:'821887f9a002be16b5f79729fae59e01',\n",
    "'Kevon Looney'\t:'6f6a807d57aae8f651222523dc82dc35',\n",
    "'Jordan Bell'\t:'3d75035d20b173a867d4bf32c8a58f0b',\n",
    "'Nick Young / Klay Thompson'\t:'0b978fcfa7f2ec839c563a755e345ff8',\n",
    "'Quinn Cook'\t:'fbcda0bcb861e4726ca8871b8965ede4',\n",
    "\n",
    "'David West'\t:'255fe2a8be0ed5c06dd99969ab4fea55',\n",
    "'Javale Should be + 7 ?'\t:'bfef77a3e57907855444410d490e7bfd',\n",
    "'Klay Thompson / Nick Young'\t:'31598ba01a3fff03ed0a87d7dea11dfe',\n",
    "'Stephen Currey'\t:'a1591595c04d12e88e3cb427fb667618',\n",
    "'Draymond should be + 11!'\t:'1a6703883f8f47bb4daf09c03be3bda2',\n",
    "'Shaun Livingston'\t:'52c6125836c465f4ac5232121dacb49d',\n",
    "'Kevin Durant'\t:'3626b893fc73a5cbd67d1ea48a5c7039'}"
   ]
  },
  {
   "cell_type": "code",
   "execution_count": 2,
   "metadata": {},
   "outputs": [
    {
     "data": {
      "text/plain": [
       "{'Jordan Clarkson': 'e49b2cc3f9aacd500b11a35b1c57112d',\n",
       " 'Larry Nance': '942a84f05f4ab956125f68ec0963481f',\n",
       " 'Kyle Korver': '32c044aa84d75ccd78c3c9f2aeb33bd9',\n",
       " 'Lebron James / Kevin Love': '95920e4bf5b6c15ba8dffbf959b38ba5',\n",
       " 'George Hill': '722a380c9b59ef42226e8d392824dcb9',\n",
       " 'JR Smith': '7f438c18058290903c46dfe9d71bd68a',\n",
       " 'Kevin Love / Lebron James': 'fb64ca4b8beaf4c4c6e4575fe2f3abd7',\n",
       " 'Jeff Green': '1dabb767e07d0aa702ee58d41c15eab1',\n",
       " 'Tristan Thompson': 'ef8b068ab7ac9d387b256404acd24cd5',\n",
       " 'Patrick McCaw': '821887f9a002be16b5f79729fae59e01',\n",
       " 'Kevon Looney': '6f6a807d57aae8f651222523dc82dc35',\n",
       " 'Jordan Bell': '3d75035d20b173a867d4bf32c8a58f0b',\n",
       " 'Nick Young / Klay Thompson': '0b978fcfa7f2ec839c563a755e345ff8',\n",
       " 'Quinn Cook': 'fbcda0bcb861e4726ca8871b8965ede4',\n",
       " 'David West': '255fe2a8be0ed5c06dd99969ab4fea55',\n",
       " 'Javale Should be + 7 ?': 'bfef77a3e57907855444410d490e7bfd',\n",
       " 'Klay Thompson / Nick Young': '31598ba01a3fff03ed0a87d7dea11dfe',\n",
       " 'Stephen Currey': 'a1591595c04d12e88e3cb427fb667618',\n",
       " 'Draymond should be + 11!': '1a6703883f8f47bb4daf09c03be3bda2',\n",
       " 'Shaun Livingston': '52c6125836c465f4ac5232121dacb49d',\n",
       " 'Kevin Durant': '3626b893fc73a5cbd67d1ea48a5c7039'}"
      ]
     },
     "execution_count": 2,
     "metadata": {},
     "output_type": "execute_result"
    }
   ],
   "source": [
    "pid_dict"
   ]
  },
  {
   "cell_type": "code",
   "execution_count": null,
   "metadata": {
    "collapsed": true
   },
   "outputs": [],
   "source": []
  }
 ],
 "metadata": {
  "kernelspec": {
   "display_name": "Python 3",
   "language": "python",
   "name": "python3"
  },
  "language_info": {
   "codemirror_mode": {
    "name": "ipython",
    "version": 3
   },
   "file_extension": ".py",
   "mimetype": "text/x-python",
   "name": "python",
   "nbconvert_exporter": "python",
   "pygments_lexer": "ipython3",
   "version": "3.6.1"
  }
 },
 "nbformat": 4,
 "nbformat_minor": 2
}
