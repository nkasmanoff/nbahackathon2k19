{
 "cells": [
  {
   "cell_type": "markdown",
   "metadata": {},
   "source": [
    "Here I'll be exploring the dataset based on the users tagged in certain posts. Working with this spin-off of the original dataset, see how easy it is to predict whether or not a certain tagged profile and thus inclusion in that post means it is more or less likely to receive more engagements. "
   ]
  },
  {
   "cell_type": "markdown",
   "metadata": {},
   "source": [
    "# In the block below, the remainder of this notebook are condensed into a single function. "
   ]
  },
  {
   "cell_type": "code",
   "execution_count": null,
   "metadata": {},
   "outputs": [],
   "source": [
    "import pandas as pd\n",
    "import numpy as np\n",
    "\n",
    "import matplotlib.pyplot as plt\n",
    "\n",
    "import seaborn as sns\n",
    "sns.set_style('darkgrid')\n",
    "sns.set_palette('husl')\n",
    "%matplotlib inline\n",
    "\n",
    "\n",
    "def make_num(z):\n",
    "    \"\"\"\n",
    "    Helper function for  the scraping tool. The result of a follower pull is \n",
    "    \n",
    "    \"35m followers\", which this function will convert into 35 \n",
    "    \n",
    "    Parameters\n",
    "    ----------\n",
    "    \n",
    "    z : str\n",
    "        The follower count, given as \"46m followers\"\n",
    "        \n",
    "    Returns\n",
    "    -------\n",
    "    \n",
    "    num : float\n",
    "        The converted number, or 4.6e6. \n",
    "        \n",
    "        Note this may occasionally return NaN, which means the account tagged was not actually found. \n",
    "    \n",
    "    \"\"\"\n",
    "    \n",
    "    import re\n",
    "    from numpy import nan\n",
    "    if type(z) == type(nan):\n",
    "        return\n",
    "    \n",
    "    z = z.split()[0] #not the followers part\n",
    "    z = z.replace(',','')\n",
    "    num = re.split(r'[a-z]*',z)[0]\n",
    "    \n",
    "    order = \"\".join(re.findall(r'[a-z]*',z))\n",
    "    if order == 'm':\n",
    "        num = float(num) * 1e6\n",
    "    if order == 'k':\n",
    "        num = float(num) * 1e3\n",
    "    else:\n",
    "        num = float(num)\n",
    "    \n",
    "   # print(\"Followers = \", num)\n",
    "    return num\n",
    "\n",
    "def get_followers(z,driver):\n",
    "    \"\"\"\n",
    "    Obtains follower count for profile in profile df. \n",
    "    \n",
    "    Parameters\n",
    "    ----------\n",
    "    \n",
    "    z : str\n",
    "        The account name, done via an apply statement. \n",
    "        \n",
    "    driver : WebDriver\n",
    "        Selenium webdriver object, used to naviagate to the URL of each account, and then grab the corresponding\n",
    "        followers. \n",
    "        \n",
    "    Returns \n",
    "    -------\n",
    "    \n",
    "    followers : float\n",
    "        The number of followers of that particular user. \n",
    "\n",
    "    \"\"\"\n",
    "    \n",
    "    from time import sleep\n",
    "    from random import randint\n",
    "    z = z.replace('@','')\n",
    "    url =  driver.get(\"https://www.instagram.com/\"+ z + \"/?hl=en\")\n",
    "    sleep(randint(1,3))\n",
    "    hrefs_in_view = driver.find_elements_by_tag_name('a')\n",
    "    \n",
    "    #this gives the link that has the attached follower number. \n",
    "    for elem in hrefs_in_view:\n",
    "        if elem.get_attribute('href') ==  \"https://www.instagram.com/accounts/login/?next=%2F\"+z+\"%2Ffollowers%2F&source=followed_by_list\": #'https://www.instagram.com/'+z+'/followers/':\n",
    "            \n",
    "            followers = make_num(elem.text)\n",
    "            \n",
    "            return followers\n",
    "              \n",
    "def load_tagged_profiles(instas):\n",
    "    \"\"\"\n",
    "    \n",
    "    Creates a dataset summarizing the instagram accounts tagged in the post. \n",
    "    The columns used are a temporary list, and this line will be finalized once it is. \n",
    "    \n",
    "    \n",
    "    Parameters\n",
    "    ----------\n",
    "    \n",
    "    instas : df\n",
    "        Dataframe of the instagram posts, their associated information + output of engagements\n",
    "        \n",
    "        \n",
    "    Returns\n",
    "    -------\n",
    "    \n",
    "    \n",
    "    profile_df : df\n",
    "    \n",
    "        Dataframe of the profiles tagged in any or multiple posts. \n",
    "        \n",
    "    \"\"\"\n",
    "    \n",
    "    #use regular expression to obtain any time a name is used, find all\n",
    "    import re\n",
    "    posts = \" \".join(instas['Description'].unique()).lower() #combine into a corpus, isolating each tag. \n",
    "    tagged_profiles = list( dict.fromkeys(re.findall('@[a-z_0-9]*',posts)) ) \n",
    "    d = []\n",
    "    instas['Description'] = instas['Description'].str.lower()\n",
    "    for account in tagged_profiles:\n",
    "        posts_w_account = instas.loc[instas['Description'].str.contains(account)]\n",
    "        max_eng = posts_w_account.Engagements.max()\n",
    "        tot_eng = posts_w_account.Engagements.sum()\n",
    "        n_posts = posts_w_account.Engagements.count()\n",
    "        min_eng = posts_w_account.Engagements.min()\n",
    "        avg_eng = posts_w_account.Engagements.mean()\n",
    "        std_eng = posts_w_account.Engagements.std()\n",
    "        d.append({'profile': account, 'max_eng': max_eng,'tot_eng' : tot_eng, \n",
    "                 'n_posts' : n_posts, 'min_eng' : min_eng, 'avg_eng' : avg_eng, 'std_eng' : std_eng})\n",
    "   \n",
    "    profile_df = pd.DataFrame(d)\n",
    "    #but we're not done, can also establish how popular these accounts are, doing it based on follower count. \n",
    "    from selenium import webdriver\n",
    "    driver = webdriver.Chrome('/Users/noahkasmanoff/Desktop/chromedriver') #open up chrome/spotify\n",
    "    profile_df['followers']  = profile_df['profile'].apply(lambda z: get_followers(z,driver))\n",
    "    driver.close()\n",
    "    \n",
    "    return profile_df\n",
    "\n",
    "instas = pd.read_csv('Business Analytics/training_set.csv',encoding = 'unicode_escape')\n",
    "\n",
    "instas.dropna(inplace=True)\n",
    "\n",
    "\n",
    "profile_df = load_tagged_profiles(instas)"
   ]
  },
  {
   "cell_type": "markdown",
   "metadata": {},
   "source": [
    "# create a dataset of the profile, and use it to infer information to add back to the training set regarding that profile tagged in a post."
   ]
  },
  {
   "cell_type": "code",
   "execution_count": null,
   "metadata": {},
   "outputs": [],
   "source": [
    "profile_df.isna().sum()"
   ]
  },
  {
   "cell_type": "code",
   "execution_count": null,
   "metadata": {},
   "outputs": [],
   "source": [
    "np.log10(profile_df.loc[profile_df['followers'] > 0 ]['followers']).plot(kind='hist')"
   ]
  },
  {
   "cell_type": "markdown",
   "metadata": {},
   "source": [
    "So ignoring the faulty entries, the # of followers obeys some kind of distribution, which may be useful. "
   ]
  },
  {
   "cell_type": "code",
   "execution_count": null,
   "metadata": {},
   "outputs": [],
   "source": [
    "sns.jointplot(x='followers',y='max_eng',data=np.log10(profile_df.loc[profile_df['followers'] > 0 ][['followers','max_eng']]),kind='hex')"
   ]
  },
  {
   "cell_type": "code",
   "execution_count": null,
   "metadata": {
    "collapsed": true
   },
   "outputs": [],
   "source": [
    "p = pd.read_csv('Business Analytics/profile_df.csv')"
   ]
  },
  {
   "cell_type": "code",
   "execution_count": null,
   "metadata": {},
   "outputs": [],
   "source": [
    "print(p.iloc[[7]].profile.values[0].replace('@','').replace(' ',''))"
   ]
  },
  {
   "cell_type": "code",
   "execution_count": null,
   "metadata": {},
   "outputs": [],
   "source": [
    "profile_df.to_csv('Business Analytics/tagged_profiles.csv',index=False)"
   ]
  },
  {
   "cell_type": "markdown",
   "metadata": {},
   "source": [
    "From https://www.adweek.com/digital/instagram-nba-players-teams-february-2017/, here's a list of stars and also most popular players. Perhaps this affects how many people view a post? "
   ]
  },
  {
   "cell_type": "markdown",
   "metadata": {
    "collapsed": true
   },
   "source": [
    "# Now clusters? \n",
    "\n",
    "Will elbow method help illuminate which users are stars and which aren't?"
   ]
  },
  {
   "cell_type": "code",
   "execution_count": null,
   "metadata": {
    "collapsed": true
   },
   "outputs": [],
   "source": [
    "profile_df = pd.read_csv('Business Analytics/tagged_profiles.csv')"
   ]
  },
  {
   "cell_type": "code",
   "execution_count": null,
   "metadata": {},
   "outputs": [],
   "source": [
    "profile_df.drop('tot_eng',axis=1,inplace=True)\n",
    "profile_df.dropna(subset=['followers'],inplace=True)\n",
    "profile_df.drop('std_eng',axis=1,inplace=True)"
   ]
  },
  {
   "cell_type": "code",
   "execution_count": null,
   "metadata": {},
   "outputs": [],
   "source": [
    "sns.pairplot(profile_df)"
   ]
  },
  {
   "cell_type": "code",
   "execution_count": null,
   "metadata": {
    "collapsed": true
   },
   "outputs": [],
   "source": []
  },
  {
   "cell_type": "code",
   "execution_count": null,
   "metadata": {},
   "outputs": [],
   "source": [
    "profile_df['followers'] = np.log10(profile_df['followers'])\n",
    "profile_df['n_posts'] = np.log10(profile_df['n_posts'])"
   ]
  },
  {
   "cell_type": "code",
   "execution_count": null,
   "metadata": {
    "collapsed": true
   },
   "outputs": [],
   "source": [
    "sns.pairplot(profile_df)"
   ]
  },
  {
   "cell_type": "code",
   "execution_count": null,
   "metadata": {},
   "outputs": [],
   "source": [
    "profile_df"
   ]
  },
  {
   "cell_type": "code",
   "execution_count": null,
   "metadata": {},
   "outputs": [],
   "source": [
    "from sklearn.cluster import KMeans\n",
    "from sklearn import preprocessing\n",
    "\n",
    "x = profile_df.drop(columns=['profile','std_eng']).dropna().values #returns a numpy array #removes missing followers (broken accounts)\n",
    "\n",
    "min_max_scaler = preprocessing.MinMaxScaler()\n",
    "x_scaled = min_max_scaler.fit_transform(x)\n",
    "df = pd.DataFrame(x_scaled)\n"
   ]
  },
  {
   "cell_type": "code",
   "execution_count": null,
   "metadata": {},
   "outputs": [],
   "source": [
    "profile_df"
   ]
  },
  {
   "cell_type": "code",
   "execution_count": null,
   "metadata": {},
   "outputs": [],
   "source": [
    "distortions = []\n",
    "K = range(2,10)\n",
    "for k in K:\n",
    "    kmeanModel = KMeans(n_clusters=k).fit(df)\n",
    "    distortions.append(kmeanModel.inertia_)"
   ]
  },
  {
   "cell_type": "code",
   "execution_count": null,
   "metadata": {},
   "outputs": [],
   "source": [
    "plt.plot(K,distortions,'o-')"
   ]
  },
  {
   "cell_type": "code",
   "execution_count": null,
   "metadata": {
    "collapsed": true
   },
   "outputs": [],
   "source": [
    "kmeanModel = KMeans(n_clusters=3).fit(df)"
   ]
  },
  {
   "cell_type": "code",
   "execution_count": null,
   "metadata": {},
   "outputs": [],
   "source": [
    "kmeanModel.labels_"
   ]
  },
  {
   "cell_type": "code",
   "execution_count": null,
   "metadata": {},
   "outputs": [],
   "source": [
    "profile_df.dropna(subset=['followers'],inplace=True)\n",
    "profile_df['tempCluster'] = kmeanModel.labels_"
   ]
  },
  {
   "cell_type": "code",
   "execution_count": null,
   "metadata": {},
   "outputs": [],
   "source": [
    "sns.pairplot(profile_df,hue='tempCluster')"
   ]
  },
  {
   "cell_type": "code",
   "execution_count": null,
   "metadata": {
    "collapsed": true
   },
   "outputs": [],
   "source": []
  }
 ],
 "metadata": {
  "kernelspec": {
   "display_name": "Python 3",
   "language": "python",
   "name": "python3"
  },
  "language_info": {
   "codemirror_mode": {
    "name": "ipython",
    "version": 3
   },
   "file_extension": ".py",
   "mimetype": "text/x-python",
   "name": "python",
   "nbconvert_exporter": "python",
   "pygments_lexer": "ipython3",
   "version": "3.6.1"
  }
 },
 "nbformat": 4,
 "nbformat_minor": 2
}
