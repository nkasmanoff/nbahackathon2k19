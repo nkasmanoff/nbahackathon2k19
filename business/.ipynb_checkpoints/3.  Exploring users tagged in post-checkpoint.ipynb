{
 "cells": [
  {
   "cell_type": "markdown",
   "metadata": {},
   "source": [
    "Here I'll be exploring the dataset based on the users tagged in certain posts. Working with this spin-off of the original dataset, see how easy it is to predict whether or not a certain tagged profile and thus inclusion in that post means it is more or less likely to receive more engagements. \n",
    "\n",
    "## Need to find how to include t.snell for instance... not @stephencurry30..., just the digits no elipsis?"
   ]
  },
  {
   "cell_type": "markdown",
   "metadata": {},
   "source": [
    "# In the block below, the remainder of this notebook are condensed into a single function. "
   ]
  },
  {
   "cell_type": "code",
   "execution_count": 1,
   "metadata": {},
   "outputs": [
    {
     "name": "stderr",
     "output_type": "stream",
     "text": [
      "/Users/noahkasmanoff/anaconda/lib/python3.6/importlib/_bootstrap.py:205: RuntimeWarning: numpy.dtype size changed, may indicate binary incompatibility. Expected 96, got 88\n",
      "  return f(*args, **kwds)\n"
     ]
    }
   ],
   "source": [
    "import pandas as pd\n",
    "import numpy as np\n",
    "\n",
    "import matplotlib.pyplot as plt\n",
    "\n",
    "import seaborn as sns\n",
    "sns.set_style('darkgrid')\n",
    "sns.set_palette('husl')\n",
    "%matplotlib inline"
   ]
  },
  {
   "cell_type": "code",
   "execution_count": 3,
   "metadata": {},
   "outputs": [
    {
     "name": "stderr",
     "output_type": "stream",
     "text": [
      "/Users/noahkasmanoff/anaconda/lib/python3.6/re.py:212: FutureWarning: split() requires a non-empty pattern match.\n",
      "  return _compile(pattern, flags).split(string, maxsplit)\n"
     ]
    }
   ],
   "source": [
    "def make_num(z):\n",
    "    \"\"\"\n",
    "    Helper function for  the scraping tool. The result of a follower pull is \n",
    "    \n",
    "    \"35m followers\", which this function will convert into 35 \n",
    "    \n",
    "    Parameters\n",
    "    ----------\n",
    "    \n",
    "    z : str\n",
    "        The follower count, given as \"46m followers\"\n",
    "        \n",
    "    Returns\n",
    "    -------\n",
    "    \n",
    "    num : float\n",
    "        The converted number, or 4.6e6. \n",
    "        \n",
    "        Note this may occasionally return NaN, which means the account tagged was not actually found. \n",
    "    \n",
    "    \"\"\"\n",
    "    \n",
    "    import re\n",
    "    from numpy import nan\n",
    "    if type(z) == type(nan):\n",
    "        return\n",
    "    \n",
    "    z = z.split()[0] #not the followers part\n",
    "    z = z.replace(',','')\n",
    "    num = re.split(r'[a-z]*',z)[0]\n",
    "    \n",
    "    order = \"\".join(re.findall(r'[a-z]*',z))\n",
    "    if order == 'm':\n",
    "        num = float(num) * 1e6\n",
    "    if order == 'k':\n",
    "        num = float(num) * 1e3\n",
    "    else:\n",
    "        num = float(num)\n",
    "    \n",
    "   # print(\"Followers = \", num)\n",
    "    return num\n",
    "\n",
    "def get_followers(z,driver):\n",
    "    \"\"\"\n",
    "    Obtains follower count for profile in profile df. \n",
    "    \n",
    "    Parameters\n",
    "    ----------\n",
    "    \n",
    "    z : str\n",
    "        The account name, done via an apply statement. \n",
    "        \n",
    "    driver : WebDriver\n",
    "        Selenium webdriver object, used to naviagate to the URL of each account, and then grab the corresponding\n",
    "        followers. \n",
    "        \n",
    "    Returns \n",
    "    -------\n",
    "    \n",
    "    followers : float\n",
    "        The number of followers of that particular user. \n",
    "\n",
    "    \"\"\"\n",
    "    \n",
    "    from time import sleep\n",
    "    from random import randint\n",
    "    z = z.replace('@','')\n",
    "    url =  driver.get(\"https://www.instagram.com/\"+ z + \"/?hl=en\")\n",
    "    sleep(randint(1,3))\n",
    "    hrefs_in_view = driver.find_elements_by_tag_name('a')\n",
    "    \n",
    "    #this gives the link that has the attached follower number. \n",
    "    for elem in hrefs_in_view:\n",
    "        if elem.get_attribute('href') ==  \"https://www.instagram.com/accounts/login/?next=%2F\"+z+\"%2Ffollowers%2F&source=followed_by_list\": #'https://www.instagram.com/'+z+'/followers/':\n",
    "            \n",
    "            followers = make_num(elem.text)\n",
    "            \n",
    "            return followers\n",
    "              \n",
    "def load_tagged_profiles(instas):\n",
    "    \"\"\"\n",
    "    \n",
    "    Creates a dataset summarizing the instagram accounts tagged in the post. \n",
    "    The columns used are a temporary list, and this line will be finalized once it is. \n",
    "    \n",
    "    \n",
    "    Parameters\n",
    "    ----------\n",
    "    \n",
    "    instas : df\n",
    "        Dataframe of the instagram posts, their associated information + output of engagements\n",
    "        \n",
    "        \n",
    "    Returns\n",
    "    -------\n",
    "    \n",
    "    \n",
    "    profile_df : df\n",
    "    \n",
    "        Dataframe of the profiles tagged in any or multiple posts. \n",
    "        \n",
    "    \"\"\"\n",
    "    \n",
    "    #use regular expression to obtain any time a name is used, find all\n",
    "    import re\n",
    "    posts = \" \".join(instas['Description'].unique()).lower() #combine into a corpus, isolating each tag. \n",
    "    tagged_profiles = list( dict.fromkeys(re.findall('@[a-z_0-9]*\\.?[a-z_0-9]*',posts)) ) \n",
    "    tagged_profiles = [s.replace('.','') if s[-1] == '.' else s for s in tagged_profiles]\n",
    "    d = []\n",
    "    instas['Description'] = instas['Description'].str.lower()\n",
    "    for account in tagged_profiles:\n",
    "        if account[-1] == '.':\n",
    "            account = account[:-1] #remove the period accidentally taken at the end. \n",
    "        posts_w_account = instas.loc[instas['Description'].str.contains(account)]\n",
    "        max_eng = posts_w_account.Engagements.max()\n",
    "        tot_eng = posts_w_account.Engagements.sum()\n",
    "        n_posts = posts_w_account.Engagements.count()\n",
    "        min_eng = posts_w_account.Engagements.min()\n",
    "        avg_eng = posts_w_account.Engagements.mean()\n",
    "        d.append({'profile': account, 'max_eng': max_eng,'tot_eng' : tot_eng, \n",
    "                 'n_posts' : n_posts, 'min_eng' : min_eng, 'avg_eng' : avg_eng})\n",
    "   \n",
    "    profile_df = pd.DataFrame(d)\n",
    "    profile_df.drop_duplicates(inplace=True)\n",
    "\n",
    "    #but we're not done, can also establish how popular these accounts are, doing it based on follower count. \n",
    "    from selenium import webdriver\n",
    "    driver = webdriver.Chrome('/Users/noahkasmanoff/Desktop/chromedriver') #open up chrome/spotify\n",
    "    profile_df['followers']  = profile_df['profile'].apply(lambda z: get_followers(z,driver))\n",
    "    driver.close()\n",
    "    return profile_df\n",
    "\n",
    "instas = pd.read_csv('Business Analytics/training_set.csv',encoding = 'unicode_escape')\n",
    "\n",
    "instas.dropna(inplace=True)\n",
    "\n",
    "\n",
    "profile_df = load_tagged_profiles(instas)"
   ]
  },
  {
   "cell_type": "code",
   "execution_count": 4,
   "metadata": {},
   "outputs": [
    {
     "data": {
      "text/html": [
       "<div>\n",
       "<style scoped>\n",
       "    .dataframe tbody tr th:only-of-type {\n",
       "        vertical-align: middle;\n",
       "    }\n",
       "\n",
       "    .dataframe tbody tr th {\n",
       "        vertical-align: top;\n",
       "    }\n",
       "\n",
       "    .dataframe thead th {\n",
       "        text-align: right;\n",
       "    }\n",
       "</style>\n",
       "<table border=\"1\" class=\"dataframe\">\n",
       "  <thead>\n",
       "    <tr style=\"text-align: right;\">\n",
       "      <th></th>\n",
       "      <th>avg_eng</th>\n",
       "      <th>max_eng</th>\n",
       "      <th>min_eng</th>\n",
       "      <th>n_posts</th>\n",
       "      <th>profile</th>\n",
       "      <th>tot_eng</th>\n",
       "      <th>followers</th>\n",
       "    </tr>\n",
       "  </thead>\n",
       "  <tbody>\n",
       "    <tr>\n",
       "      <th>0</th>\n",
       "      <td>305431.0</td>\n",
       "      <td>305431</td>\n",
       "      <td>305431</td>\n",
       "      <td>1</td>\n",
       "      <td>@rudygobert27</td>\n",
       "      <td>305431</td>\n",
       "      <td>320000.0</td>\n",
       "    </tr>\n",
       "    <tr>\n",
       "      <th>1</th>\n",
       "      <td>305431.0</td>\n",
       "      <td>305431</td>\n",
       "      <td>305431</td>\n",
       "      <td>1</td>\n",
       "      <td>@utahjazz</td>\n",
       "      <td>305431</td>\n",
       "      <td>813000.0</td>\n",
       "    </tr>\n",
       "    <tr>\n",
       "      <th>2</th>\n",
       "      <td>538730.0</td>\n",
       "      <td>538730</td>\n",
       "      <td>538730</td>\n",
       "      <td>1</td>\n",
       "      <td>@damianlillard</td>\n",
       "      <td>538730</td>\n",
       "      <td>5900000.0</td>\n",
       "    </tr>\n",
       "    <tr>\n",
       "      <th>3</th>\n",
       "      <td>538730.0</td>\n",
       "      <td>538730</td>\n",
       "      <td>538730</td>\n",
       "      <td>1</td>\n",
       "      <td>@nvonleh</td>\n",
       "      <td>538730</td>\n",
       "      <td>NaN</td>\n",
       "    </tr>\n",
       "    <tr>\n",
       "      <th>4</th>\n",
       "      <td>538730.0</td>\n",
       "      <td>538730</td>\n",
       "      <td>538730</td>\n",
       "      <td>1</td>\n",
       "      <td>@trailblazers</td>\n",
       "      <td>538730</td>\n",
       "      <td>1400000.0</td>\n",
       "    </tr>\n",
       "  </tbody>\n",
       "</table>\n",
       "</div>"
      ],
      "text/plain": [
       "    avg_eng  max_eng  min_eng  n_posts         profile  tot_eng  followers\n",
       "0  305431.0   305431   305431        1   @rudygobert27   305431   320000.0\n",
       "1  305431.0   305431   305431        1       @utahjazz   305431   813000.0\n",
       "2  538730.0   538730   538730        1  @damianlillard   538730  5900000.0\n",
       "3  538730.0   538730   538730        1        @nvonleh   538730        NaN\n",
       "4  538730.0   538730   538730        1   @trailblazers   538730  1400000.0"
      ]
     },
     "execution_count": 4,
     "metadata": {},
     "output_type": "execute_result"
    }
   ],
   "source": [
    "profile_df"
   ]
  },
  {
   "cell_type": "code",
   "execution_count": null,
   "metadata": {},
   "outputs": [],
   "source": [
    "profile_df[profile_df['profile'].duplicated(keep=False)].sort_values('profile')"
   ]
  },
  {
   "cell_type": "markdown",
   "metadata": {},
   "source": [
    "# create a dataset of the profile, and use it to infer information to add back to the training set regarding that profile tagged in a post."
   ]
  },
  {
   "cell_type": "code",
   "execution_count": null,
   "metadata": {
    "scrolled": true
   },
   "outputs": [],
   "source": [
    "profile_df.sort_values('n_posts')"
   ]
  },
  {
   "cell_type": "markdown",
   "metadata": {},
   "source": [
    "So ignoring the faulty entries, the # of followers obeys some kind of distribution, which may be useful. "
   ]
  },
  {
   "cell_type": "code",
   "execution_count": null,
   "metadata": {
    "collapsed": true
   },
   "outputs": [],
   "source": [
    "profile_df = pd.read_csv('Business Analytics/tagged_profiles.csv')\n",
    "profile_df.drop('std_eng',axis=1,inplace=True)"
   ]
  },
  {
   "cell_type": "code",
   "execution_count": null,
   "metadata": {},
   "outputs": [],
   "source": [
    "profile_df.shape"
   ]
  },
  {
   "cell_type": "code",
   "execution_count": null,
   "metadata": {
    "collapsed": true
   },
   "outputs": [],
   "source": [
    "profile_df.dropna(inplace=True)"
   ]
  },
  {
   "cell_type": "markdown",
   "metadata": {},
   "source": [
    "From https://www.adweek.com/digital/instagram-nba-players-teams-february-2017/, here's a list of stars and also most popular players. Perhaps this affects how many people view a post? "
   ]
  },
  {
   "cell_type": "markdown",
   "metadata": {
    "collapsed": true
   },
   "source": [
    "# Now clusters? \n",
    "\n",
    "Will elbow method help illuminate which users are stars and which aren't?"
   ]
  },
  {
   "cell_type": "code",
   "execution_count": null,
   "metadata": {
    "collapsed": true
   },
   "outputs": [],
   "source": [
    "profile_df.drop('tot_eng',axis=1,inplace=True)\n"
   ]
  },
  {
   "cell_type": "code",
   "execution_count": null,
   "metadata": {},
   "outputs": [],
   "source": [
    "profile_df"
   ]
  },
  {
   "cell_type": "code",
   "execution_count": null,
   "metadata": {
    "collapsed": true
   },
   "outputs": [],
   "source": [
    "profile_df['followers'] = np.log10(profile_df['followers']+1)\n",
    "profile_df['n_posts'] = np.log10(profile_df['n_posts']+1)"
   ]
  },
  {
   "cell_type": "code",
   "execution_count": null,
   "metadata": {},
   "outputs": [],
   "source": [
    "sns.pairplot(profile_df)"
   ]
  },
  {
   "cell_type": "code",
   "execution_count": null,
   "metadata": {},
   "outputs": [],
   "source": [
    "profile_df"
   ]
  },
  {
   "cell_type": "code",
   "execution_count": null,
   "metadata": {
    "collapsed": true
   },
   "outputs": [],
   "source": [
    "from sklearn.cluster import KMeans\n",
    "from sklearn import preprocessing\n",
    "\n",
    "x = profile_df.drop('profile',axis=1).values #returns a numpy array #removes missing followers (broken accounts)\n",
    "\n",
    "min_max_scaler = preprocessing.MinMaxScaler()\n",
    "x_scaled = min_max_scaler.fit_transform(x)\n",
    "df = pd.DataFrame(x_scaled)\n"
   ]
  },
  {
   "cell_type": "code",
   "execution_count": null,
   "metadata": {
    "collapsed": true
   },
   "outputs": [],
   "source": [
    "distortions = []\n",
    "K = range(1,10)\n",
    "for k in K:\n",
    "    kmeanModel = KMeans(n_clusters=k).fit(df[4].values.reshape(-1,1))\n",
    "    distortions.append(kmeanModel.inertia_)"
   ]
  },
  {
   "cell_type": "code",
   "execution_count": null,
   "metadata": {},
   "outputs": [],
   "source": [
    "plt.plot(K,distortions,'o-')"
   ]
  },
  {
   "cell_type": "code",
   "execution_count": null,
   "metadata": {
    "collapsed": true
   },
   "outputs": [],
   "source": [
    "kmeanModel = KMeans(n_clusters=4).fit(df[4].values.reshape(-1,1))"
   ]
  },
  {
   "cell_type": "code",
   "execution_count": null,
   "metadata": {},
   "outputs": [],
   "source": [
    "kmeanModel.labels_"
   ]
  },
  {
   "cell_type": "code",
   "execution_count": null,
   "metadata": {
    "collapsed": true
   },
   "outputs": [],
   "source": [
    "profile_df.dropna(subset=['followers'],inplace=True)\n",
    "profile_df['tempCluster'] = kmeanModel.labels_"
   ]
  },
  {
   "cell_type": "code",
   "execution_count": null,
   "metadata": {},
   "outputs": [],
   "source": [
    "sns.pairplot(profile_df,hue='tempCluster',diag_kind='kde')"
   ]
  },
  {
   "cell_type": "code",
   "execution_count": null,
   "metadata": {
    "collapsed": true
   },
   "outputs": [],
   "source": [
    "profiles = profile_df[['profile','tempCluster']].copy()"
   ]
  },
  {
   "cell_type": "code",
   "execution_count": null,
   "metadata": {
    "collapsed": true
   },
   "outputs": [],
   "source": [
    "profiles = pd.get_dummies(profiles,columns=['tempCluster'])"
   ]
  },
  {
   "cell_type": "code",
   "execution_count": null,
   "metadata": {
    "collapsed": true
   },
   "outputs": [],
   "source": [
    "def apply_clusters_to_training(z,profiles):\n",
    "    \"\"\"Apply the clusters to the dataset, now in a form for prediction aligned with the other data. \n",
    "   \n",
    "   \"\"\"\n",
    "    \n",
    "    import re\n",
    "    from numpy import zeros\n",
    "    post_clusters = zeros(4)\n",
    "    tags_in_z =  list( dict.fromkeys(re.findall('@[a-z_0-9]*',z)) ) \n",
    "    \n",
    "    if len(tags_in_z) == 0:\n",
    "        return post_clusters\n",
    "    print(z)\n",
    "    print(tags_in_z)\n",
    "    for tag_in_z in tags_in_z:\n",
    "        try:\n",
    "            post_clusters = post_clusters + profiles[profiles['profile'] == tag_in_z].values[0][1:] \n",
    "        except: \n",
    "            pass\n",
    "    return post_clusters"
   ]
  },
  {
   "cell_type": "code",
   "execution_count": null,
   "metadata": {},
   "outputs": [],
   "source": [
    "instas = pd.read_csv('Business Analytics/training_set.csv',encoding = 'unicode_escape')\n",
    "\n",
    "instas.dropna(inplace=True)\n",
    "\n",
    "instas['tempClusters'] = instas['Description'].str.lower().apply(lambda z: apply_clusters_to_training(z,profiles))\n"
   ]
  },
  {
   "cell_type": "code",
   "execution_count": null,
   "metadata": {
    "collapsed": true
   },
   "outputs": [],
   "source": [
    "clusters = pd.DataFrame(instas.tempClusters.tolist(), columns=['profiles_nC1', 'profiles_nC2','profiles_nC3','profiles_nC4'])"
   ]
  },
  {
   "cell_type": "code",
   "execution_count": null,
   "metadata": {
    "collapsed": true
   },
   "outputs": [],
   "source": [
    "instas.merge(clusters,left_index=True,right_index=True).drop('tempClusters',axis=1).to_csv('Business Analytics/training_set_with_followers.csv')"
   ]
  },
  {
   "cell_type": "code",
   "execution_count": null,
   "metadata": {},
   "outputs": [],
   "source": [
    "instas"
   ]
  },
  {
   "cell_type": "code",
   "execution_count": null,
   "metadata": {
    "collapsed": true
   },
   "outputs": [],
   "source": []
  }
 ],
 "metadata": {
  "kernelspec": {
   "display_name": "Python 3",
   "language": "python",
   "name": "python3"
  },
  "language_info": {
   "codemirror_mode": {
    "name": "ipython",
    "version": 3
   },
   "file_extension": ".py",
   "mimetype": "text/x-python",
   "name": "python",
   "nbconvert_exporter": "python",
   "pygments_lexer": "ipython3",
   "version": "3.6.1"
  }
 },
 "nbformat": 4,
 "nbformat_minor": 2
}
