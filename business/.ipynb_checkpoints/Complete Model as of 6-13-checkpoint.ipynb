{
 "cells": [
  {
   "cell_type": "markdown",
   "metadata": {},
   "source": [
    "Clustering hashtags and profiles"
   ]
  },
  {
   "cell_type": "code",
   "execution_count": 1,
   "metadata": {
    "collapsed": true
   },
   "outputs": [],
   "source": [
    "import pandas as pd\n",
    "import numpy as np\n",
    "\n",
    "import matplotlib.pyplot as plt\n",
    "\n",
    "import seaborn as sns\n",
    "sns.set_style('darkgrid')\n",
    "sns.set_palette('coolwarm')\n",
    "%matplotlib inline"
   ]
  },
  {
   "cell_type": "code",
   "execution_count": 2,
   "metadata": {
    "collapsed": true
   },
   "outputs": [],
   "source": [
    "profile_df = pd.read_csv('Business Analytics/tagged_profiles.csv')"
   ]
  },
  {
   "cell_type": "code",
   "execution_count": 4,
   "metadata": {},
   "outputs": [
    {
     "data": {
      "text/html": [
       "<div>\n",
       "<style scoped>\n",
       "    .dataframe tbody tr th:only-of-type {\n",
       "        vertical-align: middle;\n",
       "    }\n",
       "\n",
       "    .dataframe tbody tr th {\n",
       "        vertical-align: top;\n",
       "    }\n",
       "\n",
       "    .dataframe thead th {\n",
       "        text-align: right;\n",
       "    }\n",
       "</style>\n",
       "<table border=\"1\" class=\"dataframe\">\n",
       "  <thead>\n",
       "    <tr style=\"text-align: right;\">\n",
       "      <th></th>\n",
       "      <th>avg_eng</th>\n",
       "      <th>max_eng</th>\n",
       "      <th>min_eng</th>\n",
       "      <th>n_posts</th>\n",
       "      <th>profile</th>\n",
       "      <th>followers</th>\n",
       "    </tr>\n",
       "  </thead>\n",
       "  <tbody>\n",
       "    <tr>\n",
       "      <th>0</th>\n",
       "      <td>481730.119266</td>\n",
       "      <td>848228</td>\n",
       "      <td>198217</td>\n",
       "      <td>218</td>\n",
       "      <td>@raptors</td>\n",
       "      <td>2400000.0</td>\n",
       "    </tr>\n",
       "    <tr>\n",
       "      <th>1</th>\n",
       "      <td>541361.461538</td>\n",
       "      <td>848228</td>\n",
       "      <td>127816</td>\n",
       "      <td>13</td>\n",
       "      <td>@sergeibaka</td>\n",
       "      <td>881000.0</td>\n",
       "    </tr>\n",
       "    <tr>\n",
       "      <th>2</th>\n",
       "      <td>633178.625000</td>\n",
       "      <td>723934</td>\n",
       "      <td>502093</td>\n",
       "      <td>8</td>\n",
       "      <td>@normanpowell4</td>\n",
       "      <td>202000.0</td>\n",
       "    </tr>\n",
       "    <tr>\n",
       "      <th>3</th>\n",
       "      <td>601731.142857</td>\n",
       "      <td>696478</td>\n",
       "      <td>502093</td>\n",
       "      <td>7</td>\n",
       "      <td>@fredvanvleet</td>\n",
       "      <td>272000.0</td>\n",
       "    </tr>\n",
       "    <tr>\n",
       "      <th>4</th>\n",
       "      <td>587078.422222</td>\n",
       "      <td>854893</td>\n",
       "      <td>280401</td>\n",
       "      <td>45</td>\n",
       "      <td>@kyle_lowry7</td>\n",
       "      <td>1200000.0</td>\n",
       "    </tr>\n",
       "    <tr>\n",
       "      <th>5</th>\n",
       "      <td>569430.888889</td>\n",
       "      <td>706452</td>\n",
       "      <td>154757</td>\n",
       "      <td>9</td>\n",
       "      <td>@k_mid22</td>\n",
       "      <td>170000.0</td>\n",
       "    </tr>\n",
       "    <tr>\n",
       "      <th>6</th>\n",
       "      <td>487729.994898</td>\n",
       "      <td>810070</td>\n",
       "      <td>217833</td>\n",
       "      <td>196</td>\n",
       "      <td>@bucks</td>\n",
       "      <td>1800000.0</td>\n",
       "    </tr>\n",
       "    <tr>\n",
       "      <th>7</th>\n",
       "      <td>628804.266667</td>\n",
       "      <td>956368</td>\n",
       "      <td>253363</td>\n",
       "      <td>195</td>\n",
       "      <td>@giannis_an34</td>\n",
       "      <td>5000000.0</td>\n",
       "    </tr>\n",
       "    <tr>\n",
       "      <th>8</th>\n",
       "      <td>603939.379310</td>\n",
       "      <td>941443</td>\n",
       "      <td>304981</td>\n",
       "      <td>87</td>\n",
       "      <td>@lukadoncic</td>\n",
       "      <td>2600000.0</td>\n",
       "    </tr>\n",
       "    <tr>\n",
       "      <th>9</th>\n",
       "      <td>616215.732143</td>\n",
       "      <td>898784</td>\n",
       "      <td>287156</td>\n",
       "      <td>56</td>\n",
       "      <td>@traeyoung</td>\n",
       "      <td>1400000.0</td>\n",
       "    </tr>\n",
       "    <tr>\n",
       "      <th>10</th>\n",
       "      <td>570347.982323</td>\n",
       "      <td>909167</td>\n",
       "      <td>191794</td>\n",
       "      <td>396</td>\n",
       "      <td>@warriors</td>\n",
       "      <td>11900000.0</td>\n",
       "    </tr>\n",
       "    <tr>\n",
       "      <th>11</th>\n",
       "      <td>389966.894737</td>\n",
       "      <td>646783</td>\n",
       "      <td>236897</td>\n",
       "      <td>19</td>\n",
       "      <td>@nbastore</td>\n",
       "      <td>529000.0</td>\n",
       "    </tr>\n",
       "    <tr>\n",
       "      <th>12</th>\n",
       "      <td>704252.303419</td>\n",
       "      <td>1129585</td>\n",
       "      <td>284105</td>\n",
       "      <td>234</td>\n",
       "      <td>@stephencurry30</td>\n",
       "      <td>25600000.0</td>\n",
       "    </tr>\n",
       "    <tr>\n",
       "      <th>13</th>\n",
       "      <td>497181.720000</td>\n",
       "      <td>851603</td>\n",
       "      <td>210915</td>\n",
       "      <td>75</td>\n",
       "      <td>@nbahistory</td>\n",
       "      <td>3200000.0</td>\n",
       "    </tr>\n",
       "    <tr>\n",
       "      <th>14</th>\n",
       "      <td>572974.926829</td>\n",
       "      <td>786669</td>\n",
       "      <td>292077</td>\n",
       "      <td>41</td>\n",
       "      <td>@money23green</td>\n",
       "      <td>3200000.0</td>\n",
       "    </tr>\n",
       "    <tr>\n",
       "      <th>15</th>\n",
       "      <td>483836.962963</td>\n",
       "      <td>792027</td>\n",
       "      <td>198217</td>\n",
       "      <td>189</td>\n",
       "      <td>@trailblazers</td>\n",
       "      <td>1400000.0</td>\n",
       "    </tr>\n",
       "    <tr>\n",
       "      <th>16</th>\n",
       "      <td>662085.333333</td>\n",
       "      <td>718485</td>\n",
       "      <td>597919</td>\n",
       "      <td>9</td>\n",
       "      <td>@meyersleonard11</td>\n",
       "      <td>188000.0</td>\n",
       "    </tr>\n",
       "    <tr>\n",
       "      <th>17</th>\n",
       "      <td>623435.463415</td>\n",
       "      <td>887189</td>\n",
       "      <td>226758</td>\n",
       "      <td>82</td>\n",
       "      <td>@damianlillard</td>\n",
       "      <td>5900000.0</td>\n",
       "    </tr>\n",
       "    <tr>\n",
       "      <th>18</th>\n",
       "      <td>421140.384615</td>\n",
       "      <td>577007</td>\n",
       "      <td>283694</td>\n",
       "      <td>13</td>\n",
       "      <td>@budweiserusa</td>\n",
       "      <td>67700.0</td>\n",
       "    </tr>\n",
       "    <tr>\n",
       "      <th>19</th>\n",
       "      <td>552426.721854</td>\n",
       "      <td>853541</td>\n",
       "      <td>239843</td>\n",
       "      <td>151</td>\n",
       "      <td>@nbaonespn</td>\n",
       "      <td>2900000.0</td>\n",
       "    </tr>\n",
       "    <tr>\n",
       "      <th>20</th>\n",
       "      <td>613607.500000</td>\n",
       "      <td>646075</td>\n",
       "      <td>581140</td>\n",
       "      <td>2</td>\n",
       "      <td>@kristenledlow</td>\n",
       "      <td>245000.0</td>\n",
       "    </tr>\n",
       "    <tr>\n",
       "      <th>21</th>\n",
       "      <td>701177.500000</td>\n",
       "      <td>756280</td>\n",
       "      <td>646075</td>\n",
       "      <td>2</td>\n",
       "      <td>@reggiemillertnt</td>\n",
       "      <td>363000.0</td>\n",
       "    </tr>\n",
       "    <tr>\n",
       "      <th>22</th>\n",
       "      <td>575421.894737</td>\n",
       "      <td>696784</td>\n",
       "      <td>127816</td>\n",
       "      <td>19</td>\n",
       "      <td>@pskills43</td>\n",
       "      <td>355000.0</td>\n",
       "    </tr>\n",
       "    <tr>\n",
       "      <th>23</th>\n",
       "      <td>584748.006276</td>\n",
       "      <td>904413</td>\n",
       "      <td>204785</td>\n",
       "      <td>478</td>\n",
       "      <td>@nbaontnt</td>\n",
       "      <td>3900000.0</td>\n",
       "    </tr>\n",
       "    <tr>\n",
       "      <th>24</th>\n",
       "      <td>572136.000000</td>\n",
       "      <td>723842</td>\n",
       "      <td>326003</td>\n",
       "      <td>12</td>\n",
       "      <td>@marcgasol</td>\n",
       "      <td>344000.0</td>\n",
       "    </tr>\n",
       "    <tr>\n",
       "      <th>25</th>\n",
       "      <td>434505.647059</td>\n",
       "      <td>718888</td>\n",
       "      <td>225247</td>\n",
       "      <td>17</td>\n",
       "      <td>@youtube</td>\n",
       "      <td>20000000.0</td>\n",
       "    </tr>\n",
       "    <tr>\n",
       "      <th>26</th>\n",
       "      <td>656624.333333</td>\n",
       "      <td>683063</td>\n",
       "      <td>626655</td>\n",
       "      <td>3</td>\n",
       "      <td>@zachcollins_33</td>\n",
       "      <td>90600.0</td>\n",
       "    </tr>\n",
       "    <tr>\n",
       "      <th>27</th>\n",
       "      <td>657134.000000</td>\n",
       "      <td>767436</td>\n",
       "      <td>587922</td>\n",
       "      <td>6</td>\n",
       "      <td>@eneskanter11</td>\n",
       "      <td>392000.0</td>\n",
       "    </tr>\n",
       "    <tr>\n",
       "      <th>28</th>\n",
       "      <td>441064.275862</td>\n",
       "      <td>683459</td>\n",
       "      <td>177134</td>\n",
       "      <td>29</td>\n",
       "      <td>@nbagleague</td>\n",
       "      <td>742000.0</td>\n",
       "    </tr>\n",
       "    <tr>\n",
       "      <th>29</th>\n",
       "      <td>574712.272727</td>\n",
       "      <td>693473</td>\n",
       "      <td>359722</td>\n",
       "      <td>11</td>\n",
       "      <td>@sdotcurry</td>\n",
       "      <td>1900000.0</td>\n",
       "    </tr>\n",
       "    <tr>\n",
       "      <th>...</th>\n",
       "      <td>...</td>\n",
       "      <td>...</td>\n",
       "      <td>...</td>\n",
       "      <td>...</td>\n",
       "      <td>...</td>\n",
       "      <td>...</td>\n",
       "    </tr>\n",
       "    <tr>\n",
       "      <th>733</th>\n",
       "      <td>706429.000000</td>\n",
       "      <td>706429</td>\n",
       "      <td>706429</td>\n",
       "      <td>1</td>\n",
       "      <td>@pmccaw0</td>\n",
       "      <td>244000.0</td>\n",
       "    </tr>\n",
       "    <tr>\n",
       "      <th>734</th>\n",
       "      <td>520887.000000</td>\n",
       "      <td>520887</td>\n",
       "      <td>520887</td>\n",
       "      <td>1</td>\n",
       "      <td>@imisiahthomas</td>\n",
       "      <td>NaN</td>\n",
       "    </tr>\n",
       "    <tr>\n",
       "      <th>735</th>\n",
       "      <td>623678.500000</td>\n",
       "      <td>644990</td>\n",
       "      <td>602367</td>\n",
       "      <td>2</td>\n",
       "      <td>@fmason0</td>\n",
       "      <td>171000.0</td>\n",
       "    </tr>\n",
       "    <tr>\n",
       "      <th>736</th>\n",
       "      <td>623134.000000</td>\n",
       "      <td>623134</td>\n",
       "      <td>623134</td>\n",
       "      <td>1</td>\n",
       "      <td>@enikonhart</td>\n",
       "      <td>NaN</td>\n",
       "    </tr>\n",
       "    <tr>\n",
       "      <th>737</th>\n",
       "      <td>664765.500000</td>\n",
       "      <td>684447</td>\n",
       "      <td>645084</td>\n",
       "      <td>2</td>\n",
       "      <td>@35_fitz</td>\n",
       "      <td>46500.0</td>\n",
       "    </tr>\n",
       "    <tr>\n",
       "      <th>738</th>\n",
       "      <td>722272.000000</td>\n",
       "      <td>722272</td>\n",
       "      <td>722272</td>\n",
       "      <td>1</td>\n",
       "      <td>@jdmccrary</td>\n",
       "      <td>184000.0</td>\n",
       "    </tr>\n",
       "    <tr>\n",
       "      <th>739</th>\n",
       "      <td>665879.000000</td>\n",
       "      <td>665879</td>\n",
       "      <td>665879</td>\n",
       "      <td>1</td>\n",
       "      <td>@flydre21</td>\n",
       "      <td>165000.0</td>\n",
       "    </tr>\n",
       "    <tr>\n",
       "      <th>740</th>\n",
       "      <td>583638.729167</td>\n",
       "      <td>854893</td>\n",
       "      <td>280401</td>\n",
       "      <td>48</td>\n",
       "      <td>@kyle</td>\n",
       "      <td>7759.0</td>\n",
       "    </tr>\n",
       "    <tr>\n",
       "      <th>741</th>\n",
       "      <td>669873.666667</td>\n",
       "      <td>715741</td>\n",
       "      <td>639402</td>\n",
       "      <td>3</td>\n",
       "      <td>@courtneylee</td>\n",
       "      <td>156000.0</td>\n",
       "    </tr>\n",
       "    <tr>\n",
       "      <th>742</th>\n",
       "      <td>309817.000000</td>\n",
       "      <td>309817</td>\n",
       "      <td>309817</td>\n",
       "      <td>1</td>\n",
       "      <td>@sportsillustrated</td>\n",
       "      <td>1200000.0</td>\n",
       "    </tr>\n",
       "    <tr>\n",
       "      <th>743</th>\n",
       "      <td>639228.000000</td>\n",
       "      <td>639228</td>\n",
       "      <td>639228</td>\n",
       "      <td>1</td>\n",
       "      <td>@averybradleycamps</td>\n",
       "      <td>NaN</td>\n",
       "    </tr>\n",
       "    <tr>\n",
       "      <th>744</th>\n",
       "      <td>583112.000000</td>\n",
       "      <td>583112</td>\n",
       "      <td>583112</td>\n",
       "      <td>1</td>\n",
       "      <td>@mikemancias1</td>\n",
       "      <td>42700.0</td>\n",
       "    </tr>\n",
       "    <tr>\n",
       "      <th>745</th>\n",
       "      <td>587922.000000</td>\n",
       "      <td>587922</td>\n",
       "      <td>587922</td>\n",
       "      <td>1</td>\n",
       "      <td>@realtracymorgan</td>\n",
       "      <td>70.0</td>\n",
       "    </tr>\n",
       "    <tr>\n",
       "      <th>746</th>\n",
       "      <td>666270.500000</td>\n",
       "      <td>693255</td>\n",
       "      <td>639286</td>\n",
       "      <td>2</td>\n",
       "      <td>@waiters3</td>\n",
       "      <td>352000.0</td>\n",
       "    </tr>\n",
       "    <tr>\n",
       "      <th>747</th>\n",
       "      <td>624441.000000</td>\n",
       "      <td>624441</td>\n",
       "      <td>624441</td>\n",
       "      <td>1</td>\n",
       "      <td>@illwil21</td>\n",
       "      <td>NaN</td>\n",
       "    </tr>\n",
       "    <tr>\n",
       "      <th>748</th>\n",
       "      <td>592825.000000</td>\n",
       "      <td>592825</td>\n",
       "      <td>592825</td>\n",
       "      <td>1</td>\n",
       "      <td>@lesdogggg</td>\n",
       "      <td>1200000.0</td>\n",
       "    </tr>\n",
       "    <tr>\n",
       "      <th>749</th>\n",
       "      <td>734385.400000</td>\n",
       "      <td>888792</td>\n",
       "      <td>639448</td>\n",
       "      <td>5</td>\n",
       "      <td>@unclejg8</td>\n",
       "      <td>97.0</td>\n",
       "    </tr>\n",
       "    <tr>\n",
       "      <th>750</th>\n",
       "      <td>704761.000000</td>\n",
       "      <td>738244</td>\n",
       "      <td>647619</td>\n",
       "      <td>3</td>\n",
       "      <td>@gdhayward</td>\n",
       "      <td>49.0</td>\n",
       "    </tr>\n",
       "    <tr>\n",
       "      <th>751</th>\n",
       "      <td>674301.000000</td>\n",
       "      <td>674301</td>\n",
       "      <td>674301</td>\n",
       "      <td>1</td>\n",
       "      <td>@malcolmbrogdon92</td>\n",
       "      <td>46.0</td>\n",
       "    </tr>\n",
       "    <tr>\n",
       "      <th>752</th>\n",
       "      <td>714923.000000</td>\n",
       "      <td>714923</td>\n",
       "      <td>714923</td>\n",
       "      <td>1</td>\n",
       "      <td>@uabasketball</td>\n",
       "      <td>2000000.0</td>\n",
       "    </tr>\n",
       "    <tr>\n",
       "      <th>753</th>\n",
       "      <td>608800.000000</td>\n",
       "      <td>608800</td>\n",
       "      <td>608800</td>\n",
       "      <td>1</td>\n",
       "      <td>@therealiceman44</td>\n",
       "      <td>29300.0</td>\n",
       "    </tr>\n",
       "    <tr>\n",
       "      <th>754</th>\n",
       "      <td>320763.000000</td>\n",
       "      <td>320763</td>\n",
       "      <td>320763</td>\n",
       "      <td>1</td>\n",
       "      <td>@yankees</td>\n",
       "      <td>2200000.0</td>\n",
       "    </tr>\n",
       "    <tr>\n",
       "      <th>755</th>\n",
       "      <td>659015.000000</td>\n",
       "      <td>659015</td>\n",
       "      <td>659015</td>\n",
       "      <td>1</td>\n",
       "      <td>@mozg25</td>\n",
       "      <td>195000.0</td>\n",
       "    </tr>\n",
       "    <tr>\n",
       "      <th>756</th>\n",
       "      <td>711675.000000</td>\n",
       "      <td>711675</td>\n",
       "      <td>711675</td>\n",
       "      <td>1</td>\n",
       "      <td>@medinasyracuse</td>\n",
       "      <td>1179.0</td>\n",
       "    </tr>\n",
       "    <tr>\n",
       "      <th>757</th>\n",
       "      <td>847115.000000</td>\n",
       "      <td>847115</td>\n",
       "      <td>847115</td>\n",
       "      <td>1</td>\n",
       "      <td>@iam_jamesjohnson</td>\n",
       "      <td>60.0</td>\n",
       "    </tr>\n",
       "    <tr>\n",
       "      <th>758</th>\n",
       "      <td>679353.000000</td>\n",
       "      <td>679353</td>\n",
       "      <td>679353</td>\n",
       "      <td>1</td>\n",
       "      <td>@winnieharlow</td>\n",
       "      <td>6100000.0</td>\n",
       "    </tr>\n",
       "    <tr>\n",
       "      <th>759</th>\n",
       "      <td>664571.000000</td>\n",
       "      <td>664571</td>\n",
       "      <td>664571</td>\n",
       "      <td>1</td>\n",
       "      <td>@stanimal</td>\n",
       "      <td>299000.0</td>\n",
       "    </tr>\n",
       "    <tr>\n",
       "      <th>760</th>\n",
       "      <td>279233.000000</td>\n",
       "      <td>279233</td>\n",
       "      <td>279233</td>\n",
       "      <td>1</td>\n",
       "      <td>@rogerfederer</td>\n",
       "      <td>6100000.0</td>\n",
       "    </tr>\n",
       "    <tr>\n",
       "      <th>761</th>\n",
       "      <td>619239.000000</td>\n",
       "      <td>619239</td>\n",
       "      <td>619239</td>\n",
       "      <td>1</td>\n",
       "      <td>@bazz</td>\n",
       "      <td>121000.0</td>\n",
       "    </tr>\n",
       "    <tr>\n",
       "      <th>762</th>\n",
       "      <td>607667.000000</td>\n",
       "      <td>607667</td>\n",
       "      <td>607667</td>\n",
       "      <td>1</td>\n",
       "      <td>@jeffteague</td>\n",
       "      <td>124000.0</td>\n",
       "    </tr>\n",
       "  </tbody>\n",
       "</table>\n",
       "<p>763 rows × 6 columns</p>\n",
       "</div>"
      ],
      "text/plain": [
       "           avg_eng  max_eng  min_eng  n_posts             profile   followers\n",
       "0    481730.119266   848228   198217      218            @raptors   2400000.0\n",
       "1    541361.461538   848228   127816       13         @sergeibaka    881000.0\n",
       "2    633178.625000   723934   502093        8      @normanpowell4    202000.0\n",
       "3    601731.142857   696478   502093        7       @fredvanvleet    272000.0\n",
       "4    587078.422222   854893   280401       45        @kyle_lowry7   1200000.0\n",
       "5    569430.888889   706452   154757        9            @k_mid22    170000.0\n",
       "6    487729.994898   810070   217833      196              @bucks   1800000.0\n",
       "7    628804.266667   956368   253363      195       @giannis_an34   5000000.0\n",
       "8    603939.379310   941443   304981       87         @lukadoncic   2600000.0\n",
       "9    616215.732143   898784   287156       56          @traeyoung   1400000.0\n",
       "10   570347.982323   909167   191794      396           @warriors  11900000.0\n",
       "11   389966.894737   646783   236897       19           @nbastore    529000.0\n",
       "12   704252.303419  1129585   284105      234     @stephencurry30  25600000.0\n",
       "13   497181.720000   851603   210915       75         @nbahistory   3200000.0\n",
       "14   572974.926829   786669   292077       41       @money23green   3200000.0\n",
       "15   483836.962963   792027   198217      189       @trailblazers   1400000.0\n",
       "16   662085.333333   718485   597919        9    @meyersleonard11    188000.0\n",
       "17   623435.463415   887189   226758       82      @damianlillard   5900000.0\n",
       "18   421140.384615   577007   283694       13       @budweiserusa     67700.0\n",
       "19   552426.721854   853541   239843      151          @nbaonespn   2900000.0\n",
       "20   613607.500000   646075   581140        2      @kristenledlow    245000.0\n",
       "21   701177.500000   756280   646075        2    @reggiemillertnt    363000.0\n",
       "22   575421.894737   696784   127816       19          @pskills43    355000.0\n",
       "23   584748.006276   904413   204785      478           @nbaontnt   3900000.0\n",
       "24   572136.000000   723842   326003       12          @marcgasol    344000.0\n",
       "25   434505.647059   718888   225247       17            @youtube  20000000.0\n",
       "26   656624.333333   683063   626655        3     @zachcollins_33     90600.0\n",
       "27   657134.000000   767436   587922        6       @eneskanter11    392000.0\n",
       "28   441064.275862   683459   177134       29         @nbagleague    742000.0\n",
       "29   574712.272727   693473   359722       11          @sdotcurry   1900000.0\n",
       "..             ...      ...      ...      ...                 ...         ...\n",
       "733  706429.000000   706429   706429        1            @pmccaw0    244000.0\n",
       "734  520887.000000   520887   520887        1      @imisiahthomas         NaN\n",
       "735  623678.500000   644990   602367        2            @fmason0    171000.0\n",
       "736  623134.000000   623134   623134        1         @enikonhart         NaN\n",
       "737  664765.500000   684447   645084        2            @35_fitz     46500.0\n",
       "738  722272.000000   722272   722272        1          @jdmccrary    184000.0\n",
       "739  665879.000000   665879   665879        1           @flydre21    165000.0\n",
       "740  583638.729167   854893   280401       48               @kyle      7759.0\n",
       "741  669873.666667   715741   639402        3        @courtneylee    156000.0\n",
       "742  309817.000000   309817   309817        1  @sportsillustrated   1200000.0\n",
       "743  639228.000000   639228   639228        1  @averybradleycamps         NaN\n",
       "744  583112.000000   583112   583112        1       @mikemancias1     42700.0\n",
       "745  587922.000000   587922   587922        1    @realtracymorgan        70.0\n",
       "746  666270.500000   693255   639286        2           @waiters3    352000.0\n",
       "747  624441.000000   624441   624441        1           @illwil21         NaN\n",
       "748  592825.000000   592825   592825        1          @lesdogggg   1200000.0\n",
       "749  734385.400000   888792   639448        5           @unclejg8        97.0\n",
       "750  704761.000000   738244   647619        3          @gdhayward        49.0\n",
       "751  674301.000000   674301   674301        1   @malcolmbrogdon92        46.0\n",
       "752  714923.000000   714923   714923        1       @uabasketball   2000000.0\n",
       "753  608800.000000   608800   608800        1    @therealiceman44     29300.0\n",
       "754  320763.000000   320763   320763        1            @yankees   2200000.0\n",
       "755  659015.000000   659015   659015        1             @mozg25    195000.0\n",
       "756  711675.000000   711675   711675        1     @medinasyracuse      1179.0\n",
       "757  847115.000000   847115   847115        1   @iam_jamesjohnson        60.0\n",
       "758  679353.000000   679353   679353        1       @winnieharlow   6100000.0\n",
       "759  664571.000000   664571   664571        1           @stanimal    299000.0\n",
       "760  279233.000000   279233   279233        1       @rogerfederer   6100000.0\n",
       "761  619239.000000   619239   619239        1               @bazz    121000.0\n",
       "762  607667.000000   607667   607667        1         @jeffteague    124000.0\n",
       "\n",
       "[763 rows x 6 columns]"
      ]
     },
     "execution_count": 4,
     "metadata": {},
     "output_type": "execute_result"
    }
   ],
   "source": [
    "profile_df"
   ]
  },
  {
   "cell_type": "code",
   "execution_count": 5,
   "metadata": {
    "collapsed": true
   },
   "outputs": [],
   "source": [
    "profile_df  = profile_df[['profile','n_posts','followers']]  #.   drop(columns=['std_eng','tot_eng'],inplace=True)"
   ]
  },
  {
   "cell_type": "code",
   "execution_count": 6,
   "metadata": {},
   "outputs": [
    {
     "data": {
      "text/plain": [
       "profile       0\n",
       "n_posts       0\n",
       "followers    22\n",
       "dtype: int64"
      ]
     },
     "execution_count": 6,
     "metadata": {},
     "output_type": "execute_result"
    }
   ],
   "source": [
    "profile_df.isna().sum()"
   ]
  },
  {
   "cell_type": "code",
   "execution_count": 7,
   "metadata": {
    "scrolled": true
   },
   "outputs": [
    {
     "data": {
      "text/html": [
       "<div>\n",
       "<style scoped>\n",
       "    .dataframe tbody tr th:only-of-type {\n",
       "        vertical-align: middle;\n",
       "    }\n",
       "\n",
       "    .dataframe tbody tr th {\n",
       "        vertical-align: top;\n",
       "    }\n",
       "\n",
       "    .dataframe thead th {\n",
       "        text-align: right;\n",
       "    }\n",
       "</style>\n",
       "<table border=\"1\" class=\"dataframe\">\n",
       "  <thead>\n",
       "    <tr style=\"text-align: right;\">\n",
       "      <th></th>\n",
       "      <th>profile</th>\n",
       "      <th>n_posts</th>\n",
       "      <th>followers</th>\n",
       "    </tr>\n",
       "  </thead>\n",
       "  <tbody>\n",
       "    <tr>\n",
       "      <th>254</th>\n",
       "      <td>@t</td>\n",
       "      <td>597</td>\n",
       "      <td>NaN</td>\n",
       "    </tr>\n",
       "    <tr>\n",
       "      <th>325</th>\n",
       "      <td>@malcolmbrogdon</td>\n",
       "      <td>4</td>\n",
       "      <td>NaN</td>\n",
       "    </tr>\n",
       "    <tr>\n",
       "      <th>356</th>\n",
       "      <td>@sdinwiddie_2508</td>\n",
       "      <td>11</td>\n",
       "      <td>NaN</td>\n",
       "    </tr>\n",
       "    <tr>\n",
       "      <th>383</th>\n",
       "      <td>@nvonleh</td>\n",
       "      <td>4</td>\n",
       "      <td>NaN</td>\n",
       "    </tr>\n",
       "    <tr>\n",
       "      <th>406</th>\n",
       "      <td>@keefmorris5</td>\n",
       "      <td>2</td>\n",
       "      <td>NaN</td>\n",
       "    </tr>\n",
       "    <tr>\n",
       "      <th>449</th>\n",
       "      <td>@jonasjerebko8</td>\n",
       "      <td>3</td>\n",
       "      <td>NaN</td>\n",
       "    </tr>\n",
       "    <tr>\n",
       "      <th>468</th>\n",
       "      <td>@_dameology</td>\n",
       "      <td>1</td>\n",
       "      <td>NaN</td>\n",
       "    </tr>\n",
       "    <tr>\n",
       "      <th>518</th>\n",
       "      <td>@kevindurant</td>\n",
       "      <td>56</td>\n",
       "      <td>NaN</td>\n",
       "    </tr>\n",
       "    <tr>\n",
       "      <th>587</th>\n",
       "      <td>@trey_duval</td>\n",
       "      <td>1</td>\n",
       "      <td>NaN</td>\n",
       "    </tr>\n",
       "    <tr>\n",
       "      <th>588</th>\n",
       "      <td>@utahjazzsl</td>\n",
       "      <td>2</td>\n",
       "      <td>NaN</td>\n",
       "    </tr>\n",
       "    <tr>\n",
       "      <th>600</th>\n",
       "      <td>@al_horford</td>\n",
       "      <td>14</td>\n",
       "      <td>NaN</td>\n",
       "    </tr>\n",
       "    <tr>\n",
       "      <th>624</th>\n",
       "      <td>@masonplumlee</td>\n",
       "      <td>2</td>\n",
       "      <td>NaN</td>\n",
       "    </tr>\n",
       "    <tr>\n",
       "      <th>634</th>\n",
       "      <td>@jokara95</td>\n",
       "      <td>19</td>\n",
       "      <td>NaN</td>\n",
       "    </tr>\n",
       "    <tr>\n",
       "      <th>638</th>\n",
       "      <td>@original00g</td>\n",
       "      <td>15</td>\n",
       "      <td>NaN</td>\n",
       "    </tr>\n",
       "    <tr>\n",
       "      <th>648</th>\n",
       "      <td>@g</td>\n",
       "      <td>303</td>\n",
       "      <td>NaN</td>\n",
       "    </tr>\n",
       "    <tr>\n",
       "      <th>660</th>\n",
       "      <td>@brookiethewookie11</td>\n",
       "      <td>3</td>\n",
       "      <td>NaN</td>\n",
       "    </tr>\n",
       "    <tr>\n",
       "      <th>699</th>\n",
       "      <td>@tajgibson22</td>\n",
       "      <td>2</td>\n",
       "      <td>NaN</td>\n",
       "    </tr>\n",
       "    <tr>\n",
       "      <th>705</th>\n",
       "      <td>@blakegriffin32</td>\n",
       "      <td>12</td>\n",
       "      <td>NaN</td>\n",
       "    </tr>\n",
       "    <tr>\n",
       "      <th>734</th>\n",
       "      <td>@imisiahthomas</td>\n",
       "      <td>1</td>\n",
       "      <td>NaN</td>\n",
       "    </tr>\n",
       "    <tr>\n",
       "      <th>736</th>\n",
       "      <td>@enikonhart</td>\n",
       "      <td>1</td>\n",
       "      <td>NaN</td>\n",
       "    </tr>\n",
       "    <tr>\n",
       "      <th>743</th>\n",
       "      <td>@averybradleycamps</td>\n",
       "      <td>1</td>\n",
       "      <td>NaN</td>\n",
       "    </tr>\n",
       "    <tr>\n",
       "      <th>747</th>\n",
       "      <td>@illwil21</td>\n",
       "      <td>1</td>\n",
       "      <td>NaN</td>\n",
       "    </tr>\n",
       "  </tbody>\n",
       "</table>\n",
       "</div>"
      ],
      "text/plain": [
       "                 profile  n_posts  followers\n",
       "254                   @t      597        NaN\n",
       "325      @malcolmbrogdon        4        NaN\n",
       "356     @sdinwiddie_2508       11        NaN\n",
       "383             @nvonleh        4        NaN\n",
       "406         @keefmorris5        2        NaN\n",
       "449       @jonasjerebko8        3        NaN\n",
       "468          @_dameology        1        NaN\n",
       "518         @kevindurant       56        NaN\n",
       "587          @trey_duval        1        NaN\n",
       "588          @utahjazzsl        2        NaN\n",
       "600          @al_horford       14        NaN\n",
       "624        @masonplumlee        2        NaN\n",
       "634            @jokara95       19        NaN\n",
       "638         @original00g       15        NaN\n",
       "648                   @g      303        NaN\n",
       "660  @brookiethewookie11        3        NaN\n",
       "699         @tajgibson22        2        NaN\n",
       "705      @blakegriffin32       12        NaN\n",
       "734       @imisiahthomas        1        NaN\n",
       "736          @enikonhart        1        NaN\n",
       "743   @averybradleycamps        1        NaN\n",
       "747            @illwil21        1        NaN"
      ]
     },
     "execution_count": 7,
     "metadata": {},
     "output_type": "execute_result"
    }
   ],
   "source": [
    "profile_df[profile_df['followers'].isna()]"
   ]
  },
  {
   "cell_type": "code",
   "execution_count": 8,
   "metadata": {},
   "outputs": [
    {
     "name": "stderr",
     "output_type": "stream",
     "text": [
      "/Users/noahkasmanoff/anaconda/lib/python3.6/site-packages/pandas/core/frame.py:3790: SettingWithCopyWarning: \n",
      "A value is trying to be set on a copy of a slice from a DataFrame\n",
      "\n",
      "See the caveats in the documentation: http://pandas.pydata.org/pandas-docs/stable/indexing.html#indexing-view-versus-copy\n",
      "  downcast=downcast, **kwargs)\n"
     ]
    }
   ],
   "source": [
    "profile_df.fillna(0,inplace=True)"
   ]
  },
  {
   "cell_type": "code",
   "execution_count": 9,
   "metadata": {},
   "outputs": [
    {
     "data": {
      "text/html": [
       "<div>\n",
       "<style scoped>\n",
       "    .dataframe tbody tr th:only-of-type {\n",
       "        vertical-align: middle;\n",
       "    }\n",
       "\n",
       "    .dataframe tbody tr th {\n",
       "        vertical-align: top;\n",
       "    }\n",
       "\n",
       "    .dataframe thead th {\n",
       "        text-align: right;\n",
       "    }\n",
       "</style>\n",
       "<table border=\"1\" class=\"dataframe\">\n",
       "  <thead>\n",
       "    <tr style=\"text-align: right;\">\n",
       "      <th></th>\n",
       "      <th>profile</th>\n",
       "      <th>n_posts</th>\n",
       "      <th>followers</th>\n",
       "    </tr>\n",
       "  </thead>\n",
       "  <tbody>\n",
       "  </tbody>\n",
       "</table>\n",
       "</div>"
      ],
      "text/plain": [
       "Empty DataFrame\n",
       "Columns: [profile, n_posts, followers]\n",
       "Index: []"
      ]
     },
     "execution_count": 9,
     "metadata": {},
     "output_type": "execute_result"
    }
   ],
   "source": [
    "profile_df[profile_df['followers'].isna()]"
   ]
  },
  {
   "cell_type": "code",
   "execution_count": 10,
   "metadata": {},
   "outputs": [
    {
     "data": {
      "text/plain": [
       "<seaborn.axisgrid.PairGrid at 0x11a2cb208>"
      ]
     },
     "execution_count": 10,
     "metadata": {},
     "output_type": "execute_result"
    },
    {
     "data": {
      "image/png": "[encoded data removed]",
      "text/plain": [
       "<matplotlib.figure.Figure at 0x10ec625f8>"
      ]
     },
     "metadata": {},
     "output_type": "display_data"
    }
   ],
   "source": [
    "sns.pairplot(profile_df)"
   ]
  },
  {
   "cell_type": "markdown",
   "metadata": {},
   "source": [
    "Now log transform n posts and followers, and normalize both datasets. "
   ]
  },
  {
   "cell_type": "code",
   "execution_count": 11,
   "metadata": {},
   "outputs": [
    {
     "name": "stderr",
     "output_type": "stream",
     "text": [
      "/Users/noahkasmanoff/anaconda/lib/python3.6/site-packages/ipykernel/__main__.py:1: SettingWithCopyWarning: \n",
      "A value is trying to be set on a copy of a slice from a DataFrame.\n",
      "Try using .loc[row_indexer,col_indexer] = value instead\n",
      "\n",
      "See the caveats in the documentation: http://pandas.pydata.org/pandas-docs/stable/indexing.html#indexing-view-versus-copy\n",
      "  if __name__ == '__main__':\n",
      "/Users/noahkasmanoff/anaconda/lib/python3.6/site-packages/ipykernel/__main__.py:2: SettingWithCopyWarning: \n",
      "A value is trying to be set on a copy of a slice from a DataFrame.\n",
      "Try using .loc[row_indexer,col_indexer] = value instead\n",
      "\n",
      "See the caveats in the documentation: http://pandas.pydata.org/pandas-docs/stable/indexing.html#indexing-view-versus-copy\n",
      "  from ipykernel import kernelapp as app\n"
     ]
    }
   ],
   "source": [
    "profile_df['followers'] = np.log10(profile_df['followers']+1)\n",
    "profile_df['n_posts'] = np.log10(profile_df['n_posts'])"
   ]
  },
  {
   "cell_type": "code",
   "execution_count": 12,
   "metadata": {},
   "outputs": [
    {
     "data": {
      "text/plain": [
       "<seaborn.axisgrid.PairGrid at 0x1226fc0b8>"
      ]
     },
     "execution_count": 12,
     "metadata": {},
     "output_type": "execute_result"
    },
    {
     "data": {
      "image/png": "[encoded data removed]",
      "text/plain": [
       "<matplotlib.figure.Figure at 0x116fd5be0>"
      ]
     },
     "metadata": {},
     "output_type": "display_data"
    }
   ],
   "source": [
    "sns.pairplot(profile_df)"
   ]
  },
  {
   "cell_type": "markdown",
   "metadata": {},
   "source": [
    "We now see a correlation between # of times a player is posted about on the nba insta, and how many followers he has. That's huge"
   ]
  },
  {
   "cell_type": "code",
   "execution_count": 13,
   "metadata": {
    "collapsed": true
   },
   "outputs": [],
   "source": [
    "from sklearn.cluster import KMeans\n",
    "from sklearn import preprocessing\n",
    "\n",
    "x = profile_df.drop('profile',axis=1).values #returns a numpy array #removes missing followers (broken accounts)\n",
    "\n",
    "min_max_scaler = preprocessing.MinMaxScaler()\n",
    "x_scaled = min_max_scaler.fit_transform(x)\n",
    "df = pd.DataFrame(x_scaled)\n"
   ]
  },
  {
   "cell_type": "code",
   "execution_count": 14,
   "metadata": {},
   "outputs": [
    {
     "data": {
      "text/plain": [
       "[<matplotlib.lines.Line2D at 0x128f4c160>]"
      ]
     },
     "execution_count": 14,
     "metadata": {},
     "output_type": "execute_result"
    },
    {
     "data": {
      "image/png": "[encoded data removed]",
      "text/plain": [
       "<matplotlib.figure.Figure at 0x128eb36d8>"
      ]
     },
     "metadata": {},
     "output_type": "display_data"
    }
   ],
   "source": [
    "distortions = []\n",
    "K = range(1,10)\n",
    "for k in K:\n",
    "    kmeanModel = KMeans(n_clusters=k).fit(df)\n",
    "    distortions.append(kmeanModel.inertia_)\n",
    "\n",
    "plt.plot(K,distortions,'o-')"
   ]
  },
  {
   "cell_type": "code",
   "execution_count": 15,
   "metadata": {
    "collapsed": true
   },
   "outputs": [],
   "source": [
    "kmeanModel = KMeans(n_clusters=3).fit(df)"
   ]
  },
  {
   "cell_type": "code",
   "execution_count": 16,
   "metadata": {},
   "outputs": [
    {
     "name": "stderr",
     "output_type": "stream",
     "text": [
      "/Users/noahkasmanoff/anaconda/lib/python3.6/site-packages/ipykernel/__main__.py:1: SettingWithCopyWarning: \n",
      "A value is trying to be set on a copy of a slice from a DataFrame\n",
      "\n",
      "See the caveats in the documentation: http://pandas.pydata.org/pandas-docs/stable/indexing.html#indexing-view-versus-copy\n",
      "  if __name__ == '__main__':\n",
      "/Users/noahkasmanoff/anaconda/lib/python3.6/site-packages/ipykernel/__main__.py:2: SettingWithCopyWarning: \n",
      "A value is trying to be set on a copy of a slice from a DataFrame.\n",
      "Try using .loc[row_indexer,col_indexer] = value instead\n",
      "\n",
      "See the caveats in the documentation: http://pandas.pydata.org/pandas-docs/stable/indexing.html#indexing-view-versus-copy\n",
      "  from ipykernel import kernelapp as app\n"
     ]
    }
   ],
   "source": [
    "profile_df.dropna(subset=['followers'],inplace=True)\n",
    "profile_df['Cluster'] = kmeanModel.labels_"
   ]
  },
  {
   "cell_type": "code",
   "execution_count": 17,
   "metadata": {},
   "outputs": [
    {
     "name": "stdout",
     "output_type": "stream",
     "text": [
      "<class 'pandas.core.frame.DataFrame'>\n",
      "Int64Index: 763 entries, 0 to 762\n",
      "Data columns (total 4 columns):\n",
      "profile      763 non-null object\n",
      "n_posts      763 non-null float64\n",
      "followers    763 non-null float64\n",
      "Cluster      763 non-null int32\n",
      "dtypes: float64(2), int32(1), object(1)\n",
      "memory usage: 26.8+ KB\n"
     ]
    }
   ],
   "source": [
    "profile_df.info()"
   ]
  },
  {
   "cell_type": "code",
   "execution_count": 18,
   "metadata": {},
   "outputs": [
    {
     "data": {
      "text/plain": [
       "<seaborn.axisgrid.PairGrid at 0x128364cf8>"
      ]
     },
     "execution_count": 18,
     "metadata": {},
     "output_type": "execute_result"
    },
    {
     "data": {
      "image/png": "[encoded data removed]",
      "text/plain": [
       "<matplotlib.figure.Figure at 0x128f03048>"
      ]
     },
     "metadata": {},
     "output_type": "display_data"
    }
   ],
   "source": [
    "sns.set_palette('husl')\n",
    "sns.pairplot(profile_df.drop('profile',axis=1),hue='Cluster')"
   ]
  },
  {
   "cell_type": "code",
   "execution_count": 19,
   "metadata": {
    "collapsed": true
   },
   "outputs": [],
   "source": [
    "profiles = profile_df[['profile','Cluster']].copy()\n",
    "profiles = pd.get_dummies(profiles,columns=['Cluster'])"
   ]
  },
  {
   "cell_type": "code",
   "execution_count": 20,
   "metadata": {
    "collapsed": true
   },
   "outputs": [],
   "source": [
    "def apply_profile_clusters_to_training(z,profiles):\n",
    "    \"\"\"Apply the clusters to the dataset, now in a form for prediction aligned with the other data. \n",
    "   \n",
    "   \"\"\"\n",
    "    \n",
    "    import re\n",
    "    from numpy import zeros\n",
    "    post_clusters = zeros(profiles.shape[1] - 1)\n",
    "    tags_in_z =  list( dict.fromkeys(re.findall('@[a-z_0-9]*',z)) ) \n",
    "    \n",
    "    if len(tags_in_z) == 0:\n",
    "        return post_clusters\n",
    "    for tag_in_z in tags_in_z:\n",
    "        try:\n",
    "            post_clusters = post_clusters + profiles[profiles['profile'] == tag_in_z].values[0][1:] \n",
    "        except: \n",
    "            pass\n",
    "    return post_clusters"
   ]
  },
  {
   "cell_type": "code",
   "execution_count": 21,
   "metadata": {
    "collapsed": true
   },
   "outputs": [],
   "source": [
    "instas = pd.read_csv('Business Analytics/training_set.csv',encoding = 'unicode_escape')\n",
    "\n",
    "instas.fillna('',inplace=True)\n",
    "instas['Clusters'] = instas['Description'].str.lower().apply(lambda z: apply_profile_clusters_to_training(z,profiles))\n",
    "clusters = pd.DataFrame(instas.Clusters.tolist(), columns=['profiles_nC1', 'profiles_nC2','profiles_nC3'])"
   ]
  },
  {
   "cell_type": "code",
   "execution_count": 22,
   "metadata": {},
   "outputs": [
    {
     "data": {
      "text/html": [
       "<div>\n",
       "<style scoped>\n",
       "    .dataframe tbody tr th:only-of-type {\n",
       "        vertical-align: middle;\n",
       "    }\n",
       "\n",
       "    .dataframe tbody tr th {\n",
       "        vertical-align: top;\n",
       "    }\n",
       "\n",
       "    .dataframe thead th {\n",
       "        text-align: right;\n",
       "    }\n",
       "</style>\n",
       "<table border=\"1\" class=\"dataframe\">\n",
       "  <thead>\n",
       "    <tr style=\"text-align: right;\">\n",
       "      <th></th>\n",
       "      <th>Engagements</th>\n",
       "      <th>Followers at Posting</th>\n",
       "      <th>Created</th>\n",
       "      <th>Type</th>\n",
       "      <th>Description</th>\n",
       "      <th>Clusters</th>\n",
       "    </tr>\n",
       "  </thead>\n",
       "  <tbody>\n",
       "    <tr>\n",
       "      <th>0</th>\n",
       "      <td>502093</td>\n",
       "      <td>36984682</td>\n",
       "      <td>2019-05-21 23:30:51 EDT</td>\n",
       "      <td>Video</td>\n",
       "      <td>The @raptors bench trio of @sergeibaka @norman...</td>\n",
       "      <td>[1.0, 3.0, 0.0]</td>\n",
       "    </tr>\n",
       "    <tr>\n",
       "      <th>1</th>\n",
       "      <td>603380</td>\n",
       "      <td>36984682</td>\n",
       "      <td>2019-05-21 22:53:33 EDT</td>\n",
       "      <td>Video</td>\n",
       "      <td>@kyle_lowry7 pulls from deep for the @raptors ...</td>\n",
       "      <td>[0.0, 2.0, 0.0]</td>\n",
       "    </tr>\n",
       "    <tr>\n",
       "      <th>2</th>\n",
       "      <td>603380</td>\n",
       "      <td>36984682</td>\n",
       "      <td>2019-05-21 22:19:58 EDT</td>\n",
       "      <td>Video</td>\n",
       "      <td>@k_mid22 with some english on the @bucks dime!</td>\n",
       "      <td>[0.0, 2.0, 0.0]</td>\n",
       "    </tr>\n",
       "    <tr>\n",
       "      <th>3</th>\n",
       "      <td>725100</td>\n",
       "      <td>36984682</td>\n",
       "      <td>2019-05-21 22:02:41 EDT</td>\n",
       "      <td>Video</td>\n",
       "      <td>Kawhi punches it home with the left on TNT!</td>\n",
       "      <td>[0.0, 0.0, 0.0]</td>\n",
       "    </tr>\n",
       "    <tr>\n",
       "      <th>4</th>\n",
       "      <td>661446</td>\n",
       "      <td>36984682</td>\n",
       "      <td>2019-05-21 20:47:49 EDT</td>\n",
       "      <td>Video</td>\n",
       "      <td>@giannis_an34 goes baseline early to rock the ...</td>\n",
       "      <td>[0.0, 1.0, 0.0]</td>\n",
       "    </tr>\n",
       "  </tbody>\n",
       "</table>\n",
       "</div>"
      ],
      "text/plain": [
       "   Engagements  Followers at Posting                  Created   Type  \\\n",
       "0       502093              36984682  2019-05-21 23:30:51 EDT  Video   \n",
       "1       603380              36984682  2019-05-21 22:53:33 EDT  Video   \n",
       "2       603380              36984682  2019-05-21 22:19:58 EDT  Video   \n",
       "3       725100              36984682  2019-05-21 22:02:41 EDT  Video   \n",
       "4       661446              36984682  2019-05-21 20:47:49 EDT  Video   \n",
       "\n",
       "                                         Description         Clusters  \n",
       "0  The @raptors bench trio of @sergeibaka @norman...  [1.0, 3.0, 0.0]  \n",
       "1  @kyle_lowry7 pulls from deep for the @raptors ...  [0.0, 2.0, 0.0]  \n",
       "2     @k_mid22 with some english on the @bucks dime!  [0.0, 2.0, 0.0]  \n",
       "3        Kawhi punches it home with the left on TNT!  [0.0, 0.0, 0.0]  \n",
       "4  @giannis_an34 goes baseline early to rock the ...  [0.0, 1.0, 0.0]  "
      ]
     },
     "execution_count": 22,
     "metadata": {},
     "output_type": "execute_result"
    }
   ],
   "source": [
    "instas.head()"
   ]
  },
  {
   "cell_type": "code",
   "execution_count": 23,
   "metadata": {
    "collapsed": true
   },
   "outputs": [],
   "source": [
    "instas = instas.merge(clusters,left_index=True,right_index=True).drop('Clusters',axis=1)"
   ]
  },
  {
   "cell_type": "code",
   "execution_count": null,
   "metadata": {
    "collapsed": true
   },
   "outputs": [],
   "source": []
  },
  {
   "cell_type": "markdown",
   "metadata": {},
   "source": [
    "Now do the same for hashtags"
   ]
  },
  {
   "cell_type": "code",
   "execution_count": 24,
   "metadata": {
    "collapsed": true
   },
   "outputs": [],
   "source": [
    "hashtag_df = pd.read_csv('Business Analytics/used_hashtags.csv')"
   ]
  },
  {
   "cell_type": "code",
   "execution_count": 28,
   "metadata": {
    "collapsed": true
   },
   "outputs": [],
   "source": [
    "#hashtag_df.drop(columns=['max_eng','min_eng'],inplace=True)\n",
    "\n",
    "hashtag_df = hashtag_df[['hashtags','n_posts','# of posts']]"
   ]
  },
  {
   "cell_type": "code",
   "execution_count": 29,
   "metadata": {},
   "outputs": [
    {
     "data": {
      "text/html": [
       "<div>\n",
       "<style scoped>\n",
       "    .dataframe tbody tr th:only-of-type {\n",
       "        vertical-align: middle;\n",
       "    }\n",
       "\n",
       "    .dataframe tbody tr th {\n",
       "        vertical-align: top;\n",
       "    }\n",
       "\n",
       "    .dataframe thead th {\n",
       "        text-align: right;\n",
       "    }\n",
       "</style>\n",
       "<table border=\"1\" class=\"dataframe\">\n",
       "  <thead>\n",
       "    <tr style=\"text-align: right;\">\n",
       "      <th></th>\n",
       "      <th>hashtags</th>\n",
       "      <th>n_posts</th>\n",
       "      <th># of posts</th>\n",
       "    </tr>\n",
       "  </thead>\n",
       "  <tbody>\n",
       "    <tr>\n",
       "      <th>0</th>\n",
       "      <td>#nbafinals</td>\n",
       "      <td>157</td>\n",
       "      <td>1662807.0</td>\n",
       "    </tr>\n",
       "    <tr>\n",
       "      <th>1</th>\n",
       "      <td>#gatoradezero</td>\n",
       "      <td>1</td>\n",
       "      <td>870.0</td>\n",
       "    </tr>\n",
       "    <tr>\n",
       "      <th>2</th>\n",
       "      <td>#nbaplayoffs</td>\n",
       "      <td>590</td>\n",
       "      <td>1500448.0</td>\n",
       "    </tr>\n",
       "    <tr>\n",
       "      <th>3</th>\n",
       "      <td>#tripledoublealert</td>\n",
       "      <td>111</td>\n",
       "      <td>2898.0</td>\n",
       "    </tr>\n",
       "    <tr>\n",
       "      <th>4</th>\n",
       "      <td>#powerbeatspro</td>\n",
       "      <td>2</td>\n",
       "      <td>1674.0</td>\n",
       "    </tr>\n",
       "  </tbody>\n",
       "</table>\n",
       "</div>"
      ],
      "text/plain": [
       "             hashtags  n_posts  # of posts\n",
       "0          #nbafinals      157   1662807.0\n",
       "1       #gatoradezero        1       870.0\n",
       "2        #nbaplayoffs      590   1500448.0\n",
       "3  #tripledoublealert      111      2898.0\n",
       "4      #powerbeatspro        2      1674.0"
      ]
     },
     "execution_count": 29,
     "metadata": {},
     "output_type": "execute_result"
    }
   ],
   "source": [
    "hashtag_df.head()"
   ]
  },
  {
   "cell_type": "code",
   "execution_count": 30,
   "metadata": {},
   "outputs": [
    {
     "data": {
      "text/plain": [
       "hashtags      0\n",
       "n_posts       0\n",
       "# of posts    0\n",
       "dtype: int64"
      ]
     },
     "execution_count": 30,
     "metadata": {},
     "output_type": "execute_result"
    }
   ],
   "source": [
    "hashtag_df.isna().sum()"
   ]
  },
  {
   "cell_type": "code",
   "execution_count": 31,
   "metadata": {},
   "outputs": [
    {
     "data": {
      "text/plain": [
       "<seaborn.axisgrid.PairGrid at 0x12991a5c0>"
      ]
     },
     "execution_count": 31,
     "metadata": {},
     "output_type": "execute_result"
    },
    {
     "data": {
      "image/png": "[encoded data removed]",
      "text/plain": [
       "<matplotlib.figure.Figure at 0x12991ab38>"
      ]
     },
     "metadata": {},
     "output_type": "display_data"
    }
   ],
   "source": [
    "sns.pairplot(hashtag_df)"
   ]
  },
  {
   "cell_type": "code",
   "execution_count": 32,
   "metadata": {
    "collapsed": true
   },
   "outputs": [],
   "source": [
    "hashtag_df['# of posts'] = np.log10(hashtag_df['# of posts'] + 1)\n",
    "hashtag_df['n_posts'] = np.log10(hashtag_df['n_posts'])"
   ]
  },
  {
   "cell_type": "code",
   "execution_count": 33,
   "metadata": {},
   "outputs": [
    {
     "data": {
      "text/plain": [
       "<seaborn.axisgrid.PairGrid at 0x129ec4588>"
      ]
     },
     "execution_count": 33,
     "metadata": {},
     "output_type": "execute_result"
    },
    {
     "data": {
      "image/png": "[encoded data removed]",
      "text/plain": [
       "<matplotlib.figure.Figure at 0x129ec45c0>"
      ]
     },
     "metadata": {},
     "output_type": "display_data"
    }
   ],
   "source": [
    "sns.pairplot(hashtag_df)"
   ]
  },
  {
   "cell_type": "code",
   "execution_count": 34,
   "metadata": {
    "collapsed": true
   },
   "outputs": [],
   "source": [
    "from sklearn.cluster import KMeans\n",
    "from sklearn import preprocessing\n",
    "\n",
    "x = hashtag_df.drop('hashtags',axis=1).values #returns a numpy array #removes missing followers (broken accounts)\n",
    "\n",
    "min_max_scaler = preprocessing.MinMaxScaler()\n",
    "x_scaled = min_max_scaler.fit_transform(x)\n",
    "df = pd.DataFrame(x_scaled)\n"
   ]
  },
  {
   "cell_type": "code",
   "execution_count": 35,
   "metadata": {},
   "outputs": [
    {
     "data": {
      "text/plain": [
       "[<matplotlib.lines.Line2D at 0x12a3cf588>]"
      ]
     },
     "execution_count": 35,
     "metadata": {},
     "output_type": "execute_result"
    },
    {
     "data": {
      "image/png": "[encoded data removed]",
      "text/plain": [
       "<matplotlib.figure.Figure at 0x12a2a74a8>"
      ]
     },
     "metadata": {},
     "output_type": "display_data"
    }
   ],
   "source": [
    "distortions = []\n",
    "K = range(1,10)\n",
    "for k in K:\n",
    "    kmeanModel = KMeans(n_clusters=k).fit(df)\n",
    "    distortions.append(kmeanModel.inertia_)\n",
    "\n",
    "plt.plot(K,distortions,'o-')"
   ]
  },
  {
   "cell_type": "code",
   "execution_count": 36,
   "metadata": {
    "collapsed": true
   },
   "outputs": [],
   "source": [
    "kmeanModel = KMeans(n_clusters=3).fit(df)"
   ]
  },
  {
   "cell_type": "code",
   "execution_count": 37,
   "metadata": {
    "collapsed": true
   },
   "outputs": [],
   "source": [
    "hashtag_df['Cluster'] = kmeanModel.labels_"
   ]
  },
  {
   "cell_type": "code",
   "execution_count": 38,
   "metadata": {},
   "outputs": [
    {
     "data": {
      "text/plain": [
       "<seaborn.axisgrid.PairGrid at 0x12a3edc50>"
      ]
     },
     "execution_count": 38,
     "metadata": {},
     "output_type": "execute_result"
    },
    {
     "data": {
      "image/png": "[encoded data removed]",
      "text/plain": [
       "<matplotlib.figure.Figure at 0x12a3ed978>"
      ]
     },
     "metadata": {},
     "output_type": "display_data"
    }
   ],
   "source": [
    "sns.pairplot(hashtag_df,hue='Cluster')"
   ]
  },
  {
   "cell_type": "code",
   "execution_count": 39,
   "metadata": {
    "collapsed": true
   },
   "outputs": [],
   "source": [
    "hashtags = hashtag_df[['hashtags','Cluster']].copy()\n",
    "hashtags = pd.get_dummies(hashtags,columns=['Cluster'])"
   ]
  },
  {
   "cell_type": "code",
   "execution_count": 40,
   "metadata": {
    "collapsed": true
   },
   "outputs": [],
   "source": [
    "def apply_hashtag_clusters_to_training(z,hashtags):\n",
    "    \"\"\"Apply the clusters to the dataset, now in a form for prediction aligned with the other data. \n",
    "   \n",
    "   \"\"\"\n",
    "    \n",
    "    import re\n",
    "    from numpy import zeros\n",
    "    post_clusters = zeros(hashtags.shape[1] - 1)\n",
    "    tags_in_z =  list( dict.fromkeys(re.findall('#[a-z_0-9]*',z)) ) \n",
    "    \n",
    "    if len(tags_in_z) == 0:\n",
    "        return post_clusters\n",
    "    for tag_in_z in tags_in_z:\n",
    "        #try:\n",
    "        post_clusters = post_clusters + hashtags[hashtags['hashtags'] == tag_in_z].values[0][-(hashtags.shape[1] - 1):] \n",
    "       # except: \n",
    "       #     pass\n",
    "    return post_clusters"
   ]
  },
  {
   "cell_type": "code",
   "execution_count": 41,
   "metadata": {},
   "outputs": [
    {
     "data": {
      "text/plain": [
       "3"
      ]
     },
     "execution_count": 41,
     "metadata": {},
     "output_type": "execute_result"
    }
   ],
   "source": [
    "hashtags.shape[1] -1"
   ]
  },
  {
   "cell_type": "code",
   "execution_count": 95,
   "metadata": {
    "collapsed": true
   },
   "outputs": [],
   "source": [
    "instas['HashtagClusters'] = instas['Description'].str.lower().apply(lambda z: apply_hashtag_clusters_to_training(z,hashtags))\n"
   ]
  },
  {
   "cell_type": "code",
   "execution_count": 96,
   "metadata": {},
   "outputs": [],
   "source": [
    "clusters = pd.DataFrame(instas.HashtagClusters.tolist(), columns=['hashtags_nC1', 'hashtags_nC2','hashtags_nC3'])"
   ]
  },
  {
   "cell_type": "code",
   "execution_count": 97,
   "metadata": {
    "collapsed": true
   },
   "outputs": [],
   "source": [
    "instas = instas.merge(clusters,left_index=True,right_index=True).drop('HashtagClusters',axis=1)"
   ]
  },
  {
   "cell_type": "markdown",
   "metadata": {
    "collapsed": true
   },
   "source": [
    "#instas = instas.merge(clusters,left_index=True,right_index=True).drop('HashtagClusters',axis=1)\n",
    "instas = pd.read_csv('Business Analytics/training_set.csv',encoding = 'unicode_escape')\n",
    "\n",
    "instas.fillna('',inplace=True)"
   ]
  },
  {
   "cell_type": "code",
   "execution_count": 98,
   "metadata": {},
   "outputs": [
    {
     "data": {
      "text/plain": [
       "Index(['Engagements', 'Followers at Posting', 'Created', 'Type', 'Description',\n",
       "       'profiles_nC1', 'profiles_nC2', 'profiles_nC3', 'Description_Len',\n",
       "       'num@s', 'num#s', 'num?s', 'Buzzer Beater?', 'Dunk?', 'Timezone',\n",
       "       'Month', 'Hour', 'Weekday', 'Year', 'numCAPs', 'hashtags_nC1',\n",
       "       'hashtags_nC2', 'hashtags_nC3'],\n",
       "      dtype='object')"
      ]
     },
     "execution_count": 98,
     "metadata": {},
     "output_type": "execute_result"
    }
   ],
   "source": [
    "instas.columns"
   ]
  },
  {
   "cell_type": "code",
   "execution_count": 99,
   "metadata": {
    "collapsed": true
   },
   "outputs": [],
   "source": [
    "instas['Description_Len'] = instas['Description'].apply(len)\n",
    "instas['num@s'] = instas['Description'].apply(lambda z: z.count('@'))\n",
    "instas['num#s'] = instas['Description'].apply(lambda z: z.count('#'))\n",
    "instas['num?s'] = instas['Description'].apply(lambda z: z.count('?')) # a shitty proxy for emojis\n",
    "import re\n",
    "instas['numCAPs'] = instas['Description'].apply(lambda z: len(re.findall(r'[A-Z]',z)))\n",
    "\n",
    "def find_dunks(z):\n",
    "    dunk_words = ['slam','jam','finish','dunk','putback','rim','windmill','flush','oop']\n",
    "    for dw in dunk_words:\n",
    "        if dw in z.lower(): \n",
    "            return 1\n",
    "    return 0\n",
    "\n",
    "def find_buzzer_beaters(z):\n",
    "    buzzer_beater_words = ['buzz','beat','clock','winner']\n",
    "    \n",
    "    for bbw in buzzer_beater_words:\n",
    "        if bbw in z.lower():\n",
    "            return 1"
   ]
  },
  {
   "cell_type": "code",
   "execution_count": 100,
   "metadata": {
    "collapsed": true
   },
   "outputs": [],
   "source": [
    "try:\n",
    "    instas.drop('HashtagClusters',axis=1,inplace=True)\n",
    "except:\n",
    "    pass"
   ]
  },
  {
   "cell_type": "markdown",
   "metadata": {},
   "source": [
    "# Modeling time!"
   ]
  },
  {
   "cell_type": "code",
   "execution_count": 101,
   "metadata": {
    "collapsed": true
   },
   "outputs": [],
   "source": [
    "import datetime\n"
   ]
  },
  {
   "cell_type": "code",
   "execution_count": 102,
   "metadata": {
    "collapsed": true
   },
   "outputs": [],
   "source": [
    "instas['Timezone'] = instas['Created'].str.split(' ',expand =True)[2]\n",
    "instas['Date'] = instas['Created'].str.split(' ',expand = True)[0]\n",
    "instas['Month'] = instas['Date'].str.split('-',expand = True)[1]\n",
    "\n",
    "instas['Time'] = instas['Created'].str.split(' ',expand = True)[1]\n",
    "instas['Hour'] = instas['Time'].str.split(':',expand=True)[0]\n",
    "\n",
    "instas['Date'] = pd.to_datetime(instas['Date']).astype(datetime.datetime)\n",
    "\n",
    "instas['Weekday'] = instas['Date'].apply(lambda z: z.weekday())\n",
    "instas['Year'] = instas['Created'].apply(lambda z: z.split('-')[0])"
   ]
  },
  {
   "cell_type": "code",
   "execution_count": 103,
   "metadata": {},
   "outputs": [
    {
     "data": {
      "text/plain": [
       "array(['@jcollins20_ climbs the ladder for the PUTBACK SLAM!',\n",
       "       '@stephencurry30 uses two hands for safety!',\n",
       "       '@cp3 and @jharden13 prepare for tonight\\x92s @houstonrockets action in LA (10:30pm/et @nbatv)!',\n",
       "       '@stephencurry30\\x92s wild triple headlines the TOP 3 PLAYS from Game 4 of the #NBAFinals presented by @youtube TV!',\n",
       "       '@bensimmons notches his 10th triple-double of the season for the @sixers with 22p/15r/10a. #TripleDoubleAlert'],\n",
       "      dtype=object)"
      ]
     },
     "execution_count": 103,
     "metadata": {},
     "output_type": "execute_result"
    }
   ],
   "source": [
    "instas['Description'].sample(n=5).values"
   ]
  },
  {
   "cell_type": "code",
   "execution_count": 104,
   "metadata": {
    "collapsed": true
   },
   "outputs": [],
   "source": [
    "instas.drop(columns=['Date','Time'],inplace=True)"
   ]
  },
  {
   "cell_type": "code",
   "execution_count": 105,
   "metadata": {},
   "outputs": [
    {
     "data": {
      "text/html": [
       "<div>\n",
       "<style scoped>\n",
       "    .dataframe tbody tr th:only-of-type {\n",
       "        vertical-align: middle;\n",
       "    }\n",
       "\n",
       "    .dataframe tbody tr th {\n",
       "        vertical-align: top;\n",
       "    }\n",
       "\n",
       "    .dataframe thead th {\n",
       "        text-align: right;\n",
       "    }\n",
       "</style>\n",
       "<table border=\"1\" class=\"dataframe\">\n",
       "  <thead>\n",
       "    <tr style=\"text-align: right;\">\n",
       "      <th></th>\n",
       "      <th>Engagements</th>\n",
       "      <th>Followers at Posting</th>\n",
       "      <th>profiles_nC1</th>\n",
       "      <th>profiles_nC2</th>\n",
       "      <th>profiles_nC3</th>\n",
       "      <th>Description_Len</th>\n",
       "      <th>num@s</th>\n",
       "      <th>num#s</th>\n",
       "      <th>num?s</th>\n",
       "      <th>Buzzer Beater?</th>\n",
       "      <th>Dunk?</th>\n",
       "      <th>Weekday</th>\n",
       "      <th>numCAPs</th>\n",
       "      <th>hashtags_nC1</th>\n",
       "      <th>hashtags_nC2</th>\n",
       "      <th>hashtags_nC3</th>\n",
       "    </tr>\n",
       "  </thead>\n",
       "  <tbody>\n",
       "    <tr>\n",
       "      <th>count</th>\n",
       "      <td>7.766000e+03</td>\n",
       "      <td>7.766000e+03</td>\n",
       "      <td>7766.000000</td>\n",
       "      <td>7766.000000</td>\n",
       "      <td>7766.000000</td>\n",
       "      <td>7766.000000</td>\n",
       "      <td>7766.000000</td>\n",
       "      <td>7766.000000</td>\n",
       "      <td>7766.000000</td>\n",
       "      <td>7766.000000</td>\n",
       "      <td>7766.000000</td>\n",
       "      <td>7766.000000</td>\n",
       "      <td>7766.000000</td>\n",
       "      <td>7766.000000</td>\n",
       "      <td>7766.000000</td>\n",
       "      <td>7766.000000</td>\n",
       "    </tr>\n",
       "    <tr>\n",
       "      <th>mean</th>\n",
       "      <td>5.923129e+05</td>\n",
       "      <td>3.042770e+07</td>\n",
       "      <td>0.147438</td>\n",
       "      <td>1.319083</td>\n",
       "      <td>0.036312</td>\n",
       "      <td>69.053953</td>\n",
       "      <td>1.509014</td>\n",
       "      <td>0.599536</td>\n",
       "      <td>1.019057</td>\n",
       "      <td>0.024852</td>\n",
       "      <td>0.161988</td>\n",
       "      <td>3.081767</td>\n",
       "      <td>5.626835</td>\n",
       "      <td>0.038372</td>\n",
       "      <td>0.522663</td>\n",
       "      <td>0.037342</td>\n",
       "    </tr>\n",
       "    <tr>\n",
       "      <th>std</th>\n",
       "      <td>1.792682e+05</td>\n",
       "      <td>3.748957e+06</td>\n",
       "      <td>0.417607</td>\n",
       "      <td>1.081800</td>\n",
       "      <td>0.192506</td>\n",
       "      <td>37.143360</td>\n",
       "      <td>1.124158</td>\n",
       "      <td>0.716520</td>\n",
       "      <td>2.521439</td>\n",
       "      <td>0.155684</td>\n",
       "      <td>0.368464</td>\n",
       "      <td>1.970062</td>\n",
       "      <td>6.012271</td>\n",
       "      <td>0.199344</td>\n",
       "      <td>0.661080</td>\n",
       "      <td>0.196941</td>\n",
       "    </tr>\n",
       "    <tr>\n",
       "      <th>min</th>\n",
       "      <td>1.278160e+05</td>\n",
       "      <td>2.487554e+07</td>\n",
       "      <td>0.000000</td>\n",
       "      <td>0.000000</td>\n",
       "      <td>0.000000</td>\n",
       "      <td>0.000000</td>\n",
       "      <td>0.000000</td>\n",
       "      <td>0.000000</td>\n",
       "      <td>0.000000</td>\n",
       "      <td>0.000000</td>\n",
       "      <td>0.000000</td>\n",
       "      <td>0.000000</td>\n",
       "      <td>0.000000</td>\n",
       "      <td>0.000000</td>\n",
       "      <td>0.000000</td>\n",
       "      <td>0.000000</td>\n",
       "    </tr>\n",
       "    <tr>\n",
       "      <th>25%</th>\n",
       "      <td>4.173900e+05</td>\n",
       "      <td>2.698910e+07</td>\n",
       "      <td>0.000000</td>\n",
       "      <td>1.000000</td>\n",
       "      <td>0.000000</td>\n",
       "      <td>44.000000</td>\n",
       "      <td>1.000000</td>\n",
       "      <td>0.000000</td>\n",
       "      <td>0.000000</td>\n",
       "      <td>0.000000</td>\n",
       "      <td>0.000000</td>\n",
       "      <td>1.000000</td>\n",
       "      <td>1.000000</td>\n",
       "      <td>0.000000</td>\n",
       "      <td>0.000000</td>\n",
       "      <td>0.000000</td>\n",
       "    </tr>\n",
       "    <tr>\n",
       "      <th>50%</th>\n",
       "      <td>6.397285e+05</td>\n",
       "      <td>3.004747e+07</td>\n",
       "      <td>0.000000</td>\n",
       "      <td>1.000000</td>\n",
       "      <td>0.000000</td>\n",
       "      <td>63.000000</td>\n",
       "      <td>1.000000</td>\n",
       "      <td>0.000000</td>\n",
       "      <td>0.000000</td>\n",
       "      <td>0.000000</td>\n",
       "      <td>0.000000</td>\n",
       "      <td>3.000000</td>\n",
       "      <td>4.000000</td>\n",
       "      <td>0.000000</td>\n",
       "      <td>0.000000</td>\n",
       "      <td>0.000000</td>\n",
       "    </tr>\n",
       "    <tr>\n",
       "      <th>75%</th>\n",
       "      <td>7.216282e+05</td>\n",
       "      <td>3.392854e+07</td>\n",
       "      <td>0.000000</td>\n",
       "      <td>2.000000</td>\n",
       "      <td>0.000000</td>\n",
       "      <td>88.000000</td>\n",
       "      <td>2.000000</td>\n",
       "      <td>1.000000</td>\n",
       "      <td>1.000000</td>\n",
       "      <td>0.000000</td>\n",
       "      <td>0.000000</td>\n",
       "      <td>5.000000</td>\n",
       "      <td>8.000000</td>\n",
       "      <td>0.000000</td>\n",
       "      <td>1.000000</td>\n",
       "      <td>0.000000</td>\n",
       "    </tr>\n",
       "    <tr>\n",
       "      <th>max</th>\n",
       "      <td>1.129585e+06</td>\n",
       "      <td>3.698468e+07</td>\n",
       "      <td>7.000000</td>\n",
       "      <td>7.000000</td>\n",
       "      <td>2.000000</td>\n",
       "      <td>639.000000</td>\n",
       "      <td>10.000000</td>\n",
       "      <td>5.000000</td>\n",
       "      <td>34.000000</td>\n",
       "      <td>1.000000</td>\n",
       "      <td>1.000000</td>\n",
       "      <td>6.000000</td>\n",
       "      <td>54.000000</td>\n",
       "      <td>2.000000</td>\n",
       "      <td>5.000000</td>\n",
       "      <td>2.000000</td>\n",
       "    </tr>\n",
       "  </tbody>\n",
       "</table>\n",
       "</div>"
      ],
      "text/plain": [
       "        Engagements  Followers at Posting  profiles_nC1  profiles_nC2  \\\n",
       "count  7.766000e+03          7.766000e+03   7766.000000   7766.000000   \n",
       "mean   5.923129e+05          3.042770e+07      0.147438      1.319083   \n",
       "std    1.792682e+05          3.748957e+06      0.417607      1.081800   \n",
       "min    1.278160e+05          2.487554e+07      0.000000      0.000000   \n",
       "25%    4.173900e+05          2.698910e+07      0.000000      1.000000   \n",
       "50%    6.397285e+05          3.004747e+07      0.000000      1.000000   \n",
       "75%    7.216282e+05          3.392854e+07      0.000000      2.000000   \n",
       "max    1.129585e+06          3.698468e+07      7.000000      7.000000   \n",
       "\n",
       "       profiles_nC3  Description_Len        num@s        num#s        num?s  \\\n",
       "count   7766.000000      7766.000000  7766.000000  7766.000000  7766.000000   \n",
       "mean       0.036312        69.053953     1.509014     0.599536     1.019057   \n",
       "std        0.192506        37.143360     1.124158     0.716520     2.521439   \n",
       "min        0.000000         0.000000     0.000000     0.000000     0.000000   \n",
       "25%        0.000000        44.000000     1.000000     0.000000     0.000000   \n",
       "50%        0.000000        63.000000     1.000000     0.000000     0.000000   \n",
       "75%        0.000000        88.000000     2.000000     1.000000     1.000000   \n",
       "max        2.000000       639.000000    10.000000     5.000000    34.000000   \n",
       "\n",
       "       Buzzer Beater?        Dunk?      Weekday      numCAPs  hashtags_nC1  \\\n",
       "count     7766.000000  7766.000000  7766.000000  7766.000000   7766.000000   \n",
       "mean         0.024852     0.161988     3.081767     5.626835      0.038372   \n",
       "std          0.155684     0.368464     1.970062     6.012271      0.199344   \n",
       "min          0.000000     0.000000     0.000000     0.000000      0.000000   \n",
       "25%          0.000000     0.000000     1.000000     1.000000      0.000000   \n",
       "50%          0.000000     0.000000     3.000000     4.000000      0.000000   \n",
       "75%          0.000000     0.000000     5.000000     8.000000      0.000000   \n",
       "max          1.000000     1.000000     6.000000    54.000000      2.000000   \n",
       "\n",
       "       hashtags_nC2  hashtags_nC3  \n",
       "count   7766.000000   7766.000000  \n",
       "mean       0.522663      0.037342  \n",
       "std        0.661080      0.196941  \n",
       "min        0.000000      0.000000  \n",
       "25%        0.000000      0.000000  \n",
       "50%        0.000000      0.000000  \n",
       "75%        1.000000      0.000000  \n",
       "max        5.000000      2.000000  "
      ]
     },
     "execution_count": 105,
     "metadata": {},
     "output_type": "execute_result"
    }
   ],
   "source": [
    "instas.describe()"
   ]
  },
  {
   "cell_type": "code",
   "execution_count": 106,
   "metadata": {
    "collapsed": true
   },
   "outputs": [],
   "source": [
    "def normalize(df):\n",
    "    result = df.copy()\n",
    "    for feature_name in df.columns:\n",
    "        max_value = df[feature_name].max()\n",
    "        min_value = df[feature_name].min()\n",
    "        result[feature_name] = (df[feature_name] - min_value) / (max_value - min_value)\n",
    "    return result"
   ]
  },
  {
   "cell_type": "code",
   "execution_count": 107,
   "metadata": {
    "collapsed": true
   },
   "outputs": [],
   "source": [
    "X = instas.drop(columns=['Engagements','Description','Created','Followers at Posting']).copy()\n",
    "\n"
   ]
  },
  {
   "cell_type": "code",
   "execution_count": 108,
   "metadata": {
    "collapsed": true
   },
   "outputs": [],
   "source": [
    "X = pd.get_dummies(X)"
   ]
  },
  {
   "cell_type": "code",
   "execution_count": 109,
   "metadata": {
    "collapsed": true
   },
   "outputs": [],
   "source": [
    "X_norm  = normalize(X)"
   ]
  },
  {
   "cell_type": "code",
   "execution_count": 110,
   "metadata": {
    "collapsed": true
   },
   "outputs": [],
   "source": [
    "y = instas['Engagements']"
   ]
  },
  {
   "cell_type": "code",
   "execution_count": 111,
   "metadata": {},
   "outputs": [],
   "source": [
    "from sklearn.linear_model import LinearRegression\n",
    "\n",
    "from sklearn.svm import SVR\n",
    "\n",
    "from sklearn.ensemble import RandomForestRegressor\n",
    "\n",
    "from sklearn.neural_network import MLPRegressor\n",
    "\n",
    "from sklearn.neighbors import KNeighborsRegressor\n",
    "\n",
    "from sklearn.ensemble import GradientBoostingRegressor"
   ]
  },
  {
   "cell_type": "code",
   "execution_count": 112,
   "metadata": {
    "collapsed": true
   },
   "outputs": [],
   "source": [
    "import xgboost as xgb"
   ]
  },
  {
   "cell_type": "code",
   "execution_count": 113,
   "metadata": {
    "collapsed": true
   },
   "outputs": [],
   "source": [
    "model = xgb.XGBRegressor()"
   ]
  },
  {
   "cell_type": "code",
   "execution_count": 114,
   "metadata": {
    "collapsed": true
   },
   "outputs": [],
   "source": [
    "#model = RandomForestRegressor(n_estimators=25)\n",
    "from random import choice"
   ]
  },
  {
   "cell_type": "code",
   "execution_count": null,
   "metadata": {
    "collapsed": true
   },
   "outputs": [],
   "source": []
  },
  {
   "cell_type": "code",
   "execution_count": 115,
   "metadata": {},
   "outputs": [
    {
     "name": "stdout",
     "output_type": "stream",
     "text": [
      "Model used:  XGBRegressor(base_score=0.5, booster='gbtree', colsample_bylevel=1,\n",
      "       colsample_bytree=1, gamma=0, learning_rate=0.1, max_delta_step=0,\n",
      "       max_depth=3, min_child_weight=1, missing=None, n_estimators=500,\n",
      "       n_jobs=1, nthread=None, objective='reg:linear', random_state=0,\n",
      "       reg_alpha=0, reg_lambda=1, scale_pos_weight=1, seed=None,\n",
      "       silent=True, subsample=1)\n",
      "Training score:  0.9312412874045372\n",
      "Original Score 0.9055152526523491\n",
      "MAPE Original Score  6.137298919937531\n",
      "Jordan's MAPE,  6.137298919937531\n"
     ]
    }
   ],
   "source": [
    "from sklearn.model_selection import train_test_split\n",
    "\n",
    "X_train, X_test, y_train, y_test = train_test_split(X_norm, y, test_size=0.25)\n",
    "\n",
    "model = xgb.XGBRegressor(n_estimators=500)#choice(models)\n",
    "\n",
    "print(\"Model used: \", model)\n",
    "model.fit(X_train,y_train)\n",
    "print(\"Training score: \", model.score(X_train,y_train))\n",
    "print(\"Original Score\", model.score(X_test,y_test))\n",
    "\n",
    "def mean_absolute_percentage_error(y_true, y_pred):\n",
    "    import numpy as np\n",
    "    y_true, y_pred = np.array(y_true), np.array(y_pred)\n",
    "    return np.mean(np.abs((y_true - y_pred) / y_true)) * 100\n",
    "\n",
    "y_true = y_test\n",
    "y_pred = model.predict(X_test)\n",
    "\n",
    "#y_pred = np.array([round(y) for y in y_pred])\n",
    "\n",
    "def MAPE_np(y_true,y_pred):\n",
    "    n = y_true.shape[0]\n",
    "    return 100*np.sum(np.abs(y_true-y_pred)/y_true)/n\n",
    "\n",
    "print(\"MAPE Original Score \", mean_absolute_percentage_error(y_true, y_pred))\n",
    "\n",
    "\n",
    "print(\"Jordan's MAPE, \",  MAPE_np(y_true,y_pred))"
   ]
  },
  {
   "cell_type": "code",
   "execution_count": 116,
   "metadata": {},
   "outputs": [
    {
     "data": {
      "text/plain": [
       "<matplotlib.text.Text at 0x14b5de198>"
      ]
     },
     "execution_count": 116,
     "metadata": {},
     "output_type": "execute_result"
    },
    {
     "data": {
      "image/png": "[encoded data removed]",
      "text/plain": [
       "<matplotlib.figure.Figure at 0x149a39128>"
      ]
     },
     "metadata": {},
     "output_type": "display_data"
    },
    {
     "data": {
      "image/png": "[encoded data removed]",
      "text/plain": [
       "<matplotlib.figure.Figure at 0x12cb974e0>"
      ]
     },
     "metadata": {},
     "output_type": "display_data"
    }
   ],
   "source": [
    "#what regression points are having the most trouble?\n",
    "plt.title(\"Frequency of Offsets btw True and Predicted\")\n",
    "plt.hist(y_true.values - y_pred,bins=500)\n",
    "plt.xlabel(\"y_true - y_pred (# of engagements)\")\n",
    "plt.ylabel(\"Frequency\")\n",
    "plt.figure(figsize=(10,10))\n",
    "plt.plot(y_true.values,100*abs(y_true.values - y_pred)/ y_true.values,'b.')\n",
    "plt.title(\"Absolute % Error vs. True Engagements\")\n",
    "plt.xlabel('True # of Engagements')\n",
    "plt.ylabel('Absolute % Error')"
   ]
  },
  {
   "cell_type": "markdown",
   "metadata": {},
   "source": [
    "So the worst guesses are occuring for the most viral posts. Let's see if there's anything we can do to fix that. "
   ]
  },
  {
   "cell_type": "code",
   "execution_count": 117,
   "metadata": {},
   "outputs": [
    {
     "data": {
      "text/plain": [
       "<matplotlib.axes._subplots.AxesSubplot at 0x14b5f4f28>"
      ]
     },
     "execution_count": 117,
     "metadata": {},
     "output_type": "execute_result"
    },
    {
     "data": {
      "image/png": "[encoded data removed]",
      "text/plain": [
       "<matplotlib.figure.Figure at 0x13df4e6a0>"
      ]
     },
     "metadata": {},
     "output_type": "display_data"
    }
   ],
   "source": [
    "sns.heatmap(instas.corr())"
   ]
  },
  {
   "cell_type": "code",
   "execution_count": 118,
   "metadata": {
    "scrolled": true
   },
   "outputs": [
    {
     "name": "stdout",
     "output_type": "stream",
     "text": [
      "Feature ranking:\n",
      "1. feature 16 (0.746076)\n",
      "Type_Video\n",
      "2. feature 4 (0.048035)\n",
      "num@s\n",
      "3. feature 1 (0.022310)\n",
      "profiles_nC2\n",
      "4. feature 25 (0.019397)\n",
      "Month_07\n",
      "5. feature 8 (0.016288)\n",
      "Dunk?\n",
      "6. feature 3 (0.013092)\n",
      "Description_Len\n",
      "7. feature 9 (0.012808)\n",
      "Weekday\n",
      "8. feature 6 (0.011464)\n",
      "num?s\n",
      "9. feature 10 (0.010247)\n",
      "numCAPs\n",
      "10. feature 23 (0.004581)\n",
      "Month_05\n",
      "11. feature 12 (0.004380)\n",
      "hashtags_nC2\n",
      "12. feature 28 (0.004314)\n",
      "Month_10\n",
      "13. feature 56 (0.004174)\n",
      "Year_2018\n",
      "14. feature 5 (0.003996)\n",
      "num#s\n",
      "15. feature 0 (0.003924)\n",
      "profiles_nC1\n",
      "16. feature 52 (0.003771)\n",
      "Hour_21\n",
      "17. feature 27 (0.003664)\n",
      "Month_09\n",
      "18. feature 26 (0.003589)\n",
      "Month_08\n",
      "19. feature 20 (0.003556)\n",
      "Month_02\n",
      "20. feature 31 (0.003489)\n",
      "Hour_00\n",
      "21. feature 51 (0.003488)\n",
      "Hour_20\n",
      "22. feature 30 (0.003266)\n",
      "Month_12\n",
      "23. feature 53 (0.003008)\n",
      "Hour_22\n",
      "24. feature 54 (0.002900)\n",
      "Hour_23\n",
      "25. feature 21 (0.002843)\n",
      "Month_03\n",
      "26. feature 29 (0.002802)\n",
      "Month_11\n",
      "27. feature 32 (0.002673)\n",
      "Hour_01\n",
      "28. feature 49 (0.002453)\n",
      "Hour_18\n",
      "29. feature 50 (0.002325)\n",
      "Hour_19\n",
      "30. feature 19 (0.002318)\n",
      "Month_01\n",
      "31. feature 18 (0.002156)\n",
      "Timezone_EST\n",
      "32. feature 22 (0.002128)\n",
      "Month_04\n",
      "33. feature 17 (0.002072)\n",
      "Timezone_EDT\n",
      "34. feature 57 (0.001947)\n",
      "Year_2019\n",
      "35. feature 47 (0.001808)\n",
      "Hour_16\n",
      "36. feature 48 (0.001598)\n",
      "Hour_17\n",
      "37. feature 55 (0.001538)\n",
      "Year_2017\n",
      "38. feature 46 (0.001432)\n",
      "Hour_15\n",
      "39. feature 43 (0.001276)\n",
      "Hour_12\n",
      "40. feature 44 (0.001179)\n",
      "Hour_13\n",
      "41. feature 7 (0.001136)\n",
      "Buzzer Beater?\n",
      "42. feature 11 (0.001131)\n",
      "hashtags_nC1\n",
      "43. feature 24 (0.001088)\n",
      "Month_06\n",
      "44. feature 45 (0.001025)\n",
      "Hour_14\n",
      "45. feature 40 (0.000930)\n",
      "Hour_09\n",
      "46. feature 42 (0.000917)\n",
      "Hour_11\n",
      "47. feature 13 (0.000837)\n",
      "hashtags_nC3\n",
      "48. feature 39 (0.000786)\n",
      "Hour_08\n",
      "49. feature 2 (0.000765)\n",
      "profiles_nC3\n",
      "50. feature 41 (0.000666)\n",
      "Hour_10\n",
      "51. feature 34 (0.000553)\n",
      "Hour_03\n",
      "52. feature 33 (0.000451)\n",
      "Hour_02\n",
      "53. feature 38 (0.000380)\n",
      "Hour_07\n",
      "54. feature 36 (0.000217)\n",
      "Hour_05\n",
      "55. feature 15 (0.000211)\n",
      "Type_Photo\n",
      "56. feature 14 (0.000209)\n",
      "Type_Album\n",
      "57. feature 35 (0.000203)\n",
      "Hour_04\n",
      "58. feature 37 (0.000129)\n",
      "Hour_06\n"
     ]
    },
    {
     "data": {
      "text/plain": [
       "(-1, 58)"
      ]
     },
     "execution_count": 118,
     "metadata": {},
     "output_type": "execute_result"
    },
    {
     "data": {
      "image/png": "[encoded data removed]",
      "text/plain": [
       "<matplotlib.figure.Figure at 0x14b848ef0>"
      ]
     },
     "metadata": {},
     "output_type": "display_data"
    }
   ],
   "source": [
    "\n",
    "import numpy as np\n",
    "import matplotlib.pyplot as plt\n",
    "\n",
    "from sklearn.datasets import make_classification\n",
    "from sklearn.ensemble import ExtraTreesRegressor\n",
    "\n",
    "# Build a classification task using 3 informative features\n",
    "\n",
    "# Build a forest and compute the feature importances\n",
    "forest = ExtraTreesRegressor(n_estimators=250,\n",
    "                              random_state=0)\n",
    "\n",
    "forest.fit(X_train, y_train)\n",
    "importances = forest.feature_importances_\n",
    "std = np.std([tree.feature_importances_ for tree in forest.estimators_],\n",
    "             axis=0)\n",
    "indices = np.argsort(importances)[::-1]\n",
    "\n",
    "# Print the feature ranking\n",
    "print(\"Feature ranking:\")\n",
    "col_names = []\n",
    "for f in range(X.shape[1]):\n",
    "    print(\"%d. feature %d (%f)\" % (f + 1, indices[f], importances[indices[f]]))\n",
    "    print(X.columns[indices[f]])\n",
    "    col_names.append(X.columns[indices[f]])\n",
    "\n",
    "# Plot the feature importances of the forest\n",
    "plt.figure(figsize=(25,10))\n",
    "plt.title(\"Feature importances\")\n",
    "plt.bar(range(X.shape[1]), importances[indices],\n",
    "       color=\"r\", yerr=std[indices], align=\"center\")\n",
    "plt.xticks(range(X.shape[1]), col_names,rotation=90)\n",
    "plt.xlim([-1, X.shape[1]])\n"
   ]
  }
 ],
 "metadata": {
  "kernelspec": {
   "display_name": "Python 3",
   "language": "python",
   "name": "python3"
  },
  "language_info": {
   "codemirror_mode": {
    "name": "ipython",
    "version": 3
   },
   "file_extension": ".py",
   "mimetype": "text/x-python",
   "name": "python",
   "nbconvert_exporter": "python",
   "pygments_lexer": "ipython3",
   "version": "3.6.1"
  }
 },
 "nbformat": 4,
 "nbformat_minor": 2
}
