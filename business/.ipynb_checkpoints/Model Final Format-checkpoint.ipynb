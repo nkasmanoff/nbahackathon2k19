{
 "cells": [
  {
   "cell_type": "markdown",
   "metadata": {},
   "source": [
    "The goal of this notebook is to try and accumulate all of the previous information gathered regarding the instagram engagements with other information, and see if there is a way to accumulate it into one space in order to make this into a deliverable product. \n",
    "\n",
    "This means the joining of the actual instagram dataset, and then the extra research performed on the hashtags and @'s attached in each description."
   ]
  },
  {
   "cell_type": "markdown",
   "metadata": {},
   "source": [
    "# Step 0 : Import dependencies and visualization tools"
   ]
  },
  {
   "cell_type": "code",
   "execution_count": 1,
   "metadata": {
    "collapsed": true
   },
   "outputs": [],
   "source": [
    "import pandas as pd\n",
    "import numpy as np\n",
    "\n",
    "import matplotlib.pyplot as plt\n",
    "\n",
    "import seaborn as sns\n",
    "sns.set_style('darkgrid')\n",
    "sns.set_palette('coolwarm')\n",
    "%matplotlib inline"
   ]
  },
  {
   "cell_type": "markdown",
   "metadata": {},
   "source": [
    "# Step 1 : Load in Instagram Dataset, Derive Preliminary Features that require no outside data. "
   ]
  },
  {
   "cell_type": "code",
   "execution_count": 2,
   "metadata": {
    "collapsed": true
   },
   "outputs": [],
   "source": [
    "instas = pd.read_csv('Business Analytics/training_set.csv',encoding = 'unicode_escape')\n",
    "instas.fillna('',inplace=True)"
   ]
  },
  {
   "cell_type": "code",
   "execution_count": 11,
   "metadata": {},
   "outputs": [],
   "source": [
    "instas['Description_Len'] = instas['Description'].apply(len)\n",
    "instas['num@s'] = instas['Description'].apply(lambda z: z.count('@'))\n",
    "instas['num#s'] = instas['Description'].apply(lambda z: z.count('#'))\n",
    "instas['num?s'] = instas['Description'].apply(lambda z: z.count('?')) # a shitty proxy for emojis\n",
    "import re\n",
    "instas['numCAPs'] = instas['Description'].apply(lambda z: len(re.findall(r'[A-Z]',z)))\n",
    "\n",
    "def find_dunks(z):\n",
    "    dunk_words = ['slam','jam','finish','dunk','putback','rim','windmill','flush','oop']\n",
    "    for dw in dunk_words:\n",
    "        if dw in z.lower(): \n",
    "            return 1\n",
    "    return 0\n",
    "\n",
    "def find_buzzer_beaters(z):\n",
    "    buzzer_beater_words = ['buzz','beat','clock']\n",
    "    \n",
    "    for bbw in buzzer_beater_words:\n",
    "        if bbw in z.lower():\n",
    "            return 1\n",
    "    return 0\n",
    "\n",
    "instas['Buzzer Beater?'] = instas['Description'].apply(lambda z: find_buzzer_beaters(z)) #shitty proxy for buzzer beaters\n",
    "instas['Dunk?'] = instas['Description'].apply(lambda z:  find_dunks(z)) #shitty proxy for buzzer beaters\n",
    "\n",
    "\n",
    "import datetime\n",
    "\n",
    "instas['Timezone'] = instas['Created'].str.split(' ',expand =True)[2]\n",
    "instas['Date'] = instas['Created'].str.split(' ',expand = True)[0]\n",
    "instas['Month'] = instas['Date'].str.split('-',expand = True)[1]\n",
    "\n",
    "instas['Time'] = instas['Created'].str.split(' ',expand = True)[1]\n",
    "instas['Hour'] = instas['Time'].str.split(':',expand=True)[0]\n",
    "\n",
    "instas['Date'] = pd.to_datetime(instas['Date']).astype(datetime.datetime)\n",
    "\n",
    "instas['Weekday'] = instas['Date'].apply(lambda z: z.weekday())\n",
    "instas['Year'] = instas['Created'].apply(lambda z: z.split('-')[0])"
   ]
  },
  {
   "cell_type": "code",
   "execution_count": 12,
   "metadata": {},
   "outputs": [],
   "source": [
    "instas.drop(columns=['Date','Time'],inplace=True)"
   ]
  },
  {
   "cell_type": "markdown",
   "metadata": {},
   "source": [
    "# Step 2 Load In Exogeneous Features Such as Hashtag Popularity and Profile Clout"
   ]
  },
  {
   "cell_type": "code",
   "execution_count": null,
   "metadata": {
    "collapsed": true
   },
   "outputs": [],
   "source": [
    "# Please do this here soon!"
   ]
  },
  {
   "cell_type": "code",
   "execution_count": null,
   "metadata": {
    "collapsed": true
   },
   "outputs": [],
   "source": []
  },
  {
   "cell_type": "code",
   "execution_count": null,
   "metadata": {
    "collapsed": true
   },
   "outputs": [],
   "source": []
  },
  {
   "cell_type": "code",
   "execution_count": 13,
   "metadata": {
    "collapsed": true
   },
   "outputs": [],
   "source": [
    "def normalize(df):\n",
    "    result = df.copy()\n",
    "    for feature_name in df.columns:\n",
    "        max_value = df[feature_name].max()\n",
    "        min_value = df[feature_name].min()\n",
    "        result[feature_name] = (df[feature_name] - min_value) / (max_value - min_value)\n",
    "    return result\n",
    "\n",
    "X = instas.drop(columns=['Engagements','Description','Created','Followers at Posting']).copy()\n",
    "\n",
    "X = pd.get_dummies(X)\n",
    "\n",
    "X_norm  = normalize(X)\n",
    "\n",
    "y = instas['Engagements']"
   ]
  },
  {
   "cell_type": "code",
   "execution_count": 20,
   "metadata": {},
   "outputs": [
    {
     "name": "stdout",
     "output_type": "stream",
     "text": [
      "Model used:  XGBRegressor(base_score=0.5, booster='dart', colsample_bylevel=1,\n",
      "       colsample_bytree=1, gamma=0, learning_rate=0.1, max_delta_step=0,\n",
      "       max_depth=3, min_child_weight=1, missing=None, n_estimators=550,\n",
      "       n_jobs=1, nthread=None, objective='reg:linear', random_state=0,\n",
      "       reg_alpha=0, reg_lambda=1, scale_pos_weight=1, seed=None,\n",
      "       silent=True, subsample=1)\n",
      "Training score:  0.9315375993602187\n",
      "Original Score 0.9019930399080099\n",
      "MAPE Original Score  6.6013107333303855\n",
      "Jordan's MAPE,  6.6013107333303855\n"
     ]
    }
   ],
   "source": [
    "from sklearn.model_selection import train_test_split\n",
    "import xgboost as xgb\n",
    "X_train, X_test, y_train, y_test = train_test_split(X_norm, y, test_size=0.4)\n",
    "\n",
    "model = xgb.XGBRegressor(n_estimators=550,booster='dart')#choice(models)\n",
    "\n",
    "print(\"Model used: \", model)\n",
    "model.fit(X_train,y_train)\n",
    "print(\"Training score: \", model.score(X_train,y_train))\n",
    "print(\"Original Score\", model.score(X_test,y_test))\n",
    "\n",
    "def mean_absolute_percentage_error(y_true, y_pred):\n",
    "    import numpy as np\n",
    "    y_true, y_pred = np.array(y_true), np.array(y_pred)\n",
    "    return np.mean(np.abs((y_true - y_pred) / y_true)) * 100\n",
    "\n",
    "y_true = y_test\n",
    "y_pred = model.predict(X_test)\n",
    "\n",
    "#y_pred = np.array([round(y) for y in y_pred])\n",
    "\n",
    "print(\"MAPE Original Score \", mean_absolute_percentage_error(y_true, y_pred))\n",
    "\n",
    "\n",
    "print(\"Jordan's MAPE, \",  MAPE_np(y_true,y_pred))"
   ]
  },
  {
   "cell_type": "code",
   "execution_count": null,
   "metadata": {},
   "outputs": [],
   "source": []
  },
  {
   "cell_type": "code",
   "execution_count": null,
   "metadata": {},
   "outputs": [],
   "source": []
  },
  {
   "cell_type": "code",
   "execution_count": null,
   "metadata": {
    "collapsed": true
   },
   "outputs": [],
   "source": []
  }
 ],
 "metadata": {
  "kernelspec": {
   "display_name": "Python 3",
   "language": "python",
   "name": "python3"
  },
  "language_info": {
   "codemirror_mode": {
    "name": "ipython",
    "version": 3
   },
   "file_extension": ".py",
   "mimetype": "text/x-python",
   "name": "python",
   "nbconvert_exporter": "python",
   "pygments_lexer": "ipython3",
   "version": "3.6.1"
  }
 },
 "nbformat": 4,
 "nbformat_minor": 2
}
